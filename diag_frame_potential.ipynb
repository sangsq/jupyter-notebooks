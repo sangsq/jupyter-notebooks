{
 "cells": [
  {
   "cell_type": "code",
   "execution_count": 15,
   "metadata": {},
   "outputs": [],
   "source": [
    "using LinearAlgebra\n",
    "using Combinatorics\n",
    "using Statistics\n",
    "using PyPlot\n",
    "using BenchmarkTools\n",
    "using Profile\n",
    "\n",
    "using Symbolics"
   ]
  },
  {
   "cell_type": "code",
   "execution_count": 16,
   "metadata": {},
   "outputs": [
    {
     "data": {
      "text/plain": [
       "test_true_frame_potential_estim (generic function with 1 method)"
      ]
     },
     "execution_count": 16,
     "metadata": {},
     "output_type": "execute_result"
    }
   ],
   "source": [
    "function n_choose_k(n, k)\n",
    "    if k==0\n",
    "        return [Bool[0 for _ in 1:n]]\n",
    "    elseif k==n\n",
    "        return [Bool[1 for _ in 1:n]]\n",
    "    else\n",
    "        a = n_choose_k(n-1, k)\n",
    "        b = n_choose_k(n-1, k-1)\n",
    "        return [\n",
    "            [Bool[0, i...] for i in a]..., \n",
    "            [Bool[1, i...] for i in b]...\n",
    "        ]\n",
    "    end\n",
    "end\n",
    "    \n",
    "function ind2mask(indices, n)\n",
    "    mask = zeros(Bool, 2^n)\n",
    "    for i in indices\n",
    "        for j in 0 : 2^i : (2^n-2^i)\n",
    "            mask[j+1:j+2^(i-1)] .⊻= true\n",
    "        end\n",
    "    end\n",
    "    return mask\n",
    "end\n",
    "\n",
    "\n",
    "function diag_rand_U1(n, k)\n",
    "    eles = zeros(2^n)\n",
    "    for l in 1:k\n",
    "        for indices in combinations(1:n, l)\n",
    "            x = rand()\n",
    "            mask = zeros(Bool, 2^n)\n",
    "            for i in indices\n",
    "                for j in 0 : 2^i : (2^n-2^i)\n",
    "                    mask[j+1:j+2^(i-1)] .⊻= true\n",
    "                end\n",
    "            end\n",
    "            eles[mask] .+= x\n",
    "            eles[.!mask] .-= x\n",
    "        end\n",
    "    end\n",
    "    return exp.(1im .* 2pi .* eles)\n",
    "end\n",
    "    \n",
    "\n",
    "function diag_rand_U2(n, k)\n",
    "    eles = Diagonal([0 for _ in 1:2^n])\n",
    "    Z  = Diagonal([1, -1])\n",
    "    II = Diagonal([1,  1])\n",
    "    for l in 1:k\n",
    "        for ar in n_choose_k(n, l)\n",
    "            x = rand()\n",
    "            eles += x * kron([b ? Z : II for b in ar]...)\n",
    "        end\n",
    "    end\n",
    "    return exp.(1im .* 2pi .* eles.diag)\n",
    "end\n",
    "\n",
    "function diag_frame_potential_estim1(n, k, ts, avg)\n",
    "    tmp = [abs(\n",
    "                sum(diag_rand_U1(n, k))\n",
    "                )\n",
    "        for _ in 1:avg]\n",
    "    return [mean(tmp.^(2t)) for t in ts], [std(tmp.^(2t)) / sqrt(avg) for t in ts]\n",
    "end\n",
    "\n",
    "function diag_frame_potential_estim2(n, k, ts, avg)\n",
    "    tmp = [abs(\n",
    "                sum(diag_rand_U2(n, k))\n",
    "                )\n",
    "        for _ in 1:avg]\n",
    "    return [mean(tmp.^(2t)) for t in ts], [std(tmp.^(2t)) / sqrt(avg) for t in ts]\n",
    "end\n",
    "\n",
    "function test_true_frame_potential_estim(n, ts, avg)\n",
    "    tmp = [abs(\n",
    "                sum([exp(2pi * 1im * rand()) for _ in 1:2^n])\n",
    "                ) / 2^(n/2)\n",
    "        for _ in 1:avg]\n",
    "    return [mean(tmp.^(2t)) for t in ts], [std(tmp.^(2t)) / sqrt(avg) for t in ts]\n",
    "end"
   ]
  },
  {
   "cell_type": "code",
   "execution_count": 12,
   "metadata": {},
   "outputs": [
    {
     "data": {
      "image/png": "[encoded data removed]",
      "text/plain": [
       "Figure(PyObject <Figure size 640x480 with 1 Axes>)"
      ]
     },
     "metadata": {},
     "output_type": "display_data"
    },
    {
     "data": {
      "text/plain": [
       "PyObject <matplotlib.legend.Legend object at 0x000000004F697850>"
      ]
     },
     "execution_count": 12,
     "metadata": {},
     "output_type": "execute_result"
    }
   ],
   "source": [
    "n = 5\n",
    "k = n\n",
    "ts = 1:5\n",
    "avg = 10000\n",
    "\n",
    "y1, e1 = test_true_frame_potential_estim(n, ts, avg)\n",
    "y2, e2 = diag_frame_potential_estim1(n, k, ts, avg) \n",
    "y3, e3 = diag_frame_potential_estim2(n, k, ts, avg)\n",
    "\n",
    "x = ts\n",
    "errorbar(x, y1, yerr=e1, label=\"true\")\n",
    "errorbar(x, y2, yerr=e2, label=\"method1\")\n",
    "errorbar(x, y3, yerr=e3, label=\"method2\")\n",
    "\n",
    "\n",
    "yscale(\"log\")\n",
    "legend()"
   ]
  },
  {
   "cell_type": "code",
   "execution_count": 101,
   "metadata": {},
   "outputs": [
    {
     "name": "stdout",
     "output_type": "stream",
     "text": [
      "  9.380 ms (138206 allocations: 16.44 MiB)\n",
      "  13.785 ms (185116 allocations: 17.13 MiB)\n"
     ]
    },
    {
     "data": {
      "text/plain": [
       "([8210.087308743094], [1447.9530776982933])"
      ]
     },
     "execution_count": 101,
     "metadata": {},
     "output_type": "execute_result"
    }
   ],
   "source": [
    "@btime diag_frame_potential_estim1(6, 3, [2], 100)\n",
    "@btime diag_frame_potential_estim2(6, 3, [2], 100)"
   ]
  },
  {
   "cell_type": "code",
   "execution_count": 32,
   "metadata": {},
   "outputs": [
    {
     "data": {
      "text/plain": [
       "6-element Array{Tuple{Array{Float64,1},Array{Float64,1}},1}:\n",
       " ([11.32359189258274, 236.29952481741904, 6681.723750343313], [0.8095773855868754, 29.21603967391721, 1228.773185569458])\n",
       " ([1.9821739361820156, 5.916940370068807, 24.498184541747033], [0.04535551581812609, 0.31735608384244407, 3.213941169455883])\n",
       " ([2.0134983605535663, 6.024465470311085, 24.367601772544873], [0.04507267206452266, 0.28367320085463194, 2.388595838180216])\n",
       " ([1.972154055267969, 5.791376352634025, 22.545154007589538], [0.043194476675490485, 0.24523836717578312, 1.755233622102816])\n",
       " ([1.9552757028228345, 5.588842662217546, 20.47011528611273], [0.04080279044351179, 0.20425369441296218, 1.2238814632605242])\n",
       " ([2.0086592139631074, 5.986897790456912, 23.262854915334792], [0.043852099247475386, 0.2361587407999351, 1.5230846450806175])"
      ]
     },
     "execution_count": 32,
     "metadata": {},
     "output_type": "execute_result"
    }
   ],
   "source": [
    "n = 6\n",
    "ks = 1:n\n",
    "ts = 2:4\n",
    "avg = 10000\n",
    "\n",
    "tmp1 = [diag_frame_potential_estim1(n, k, ts, avg) for k in ks]\n",
    "tmp2 = [diag_frame_potential_estim2(n, k, ts, avg) for k in ks]"
   ]
  },
  {
   "cell_type": "code",
   "execution_count": 31,
   "metadata": {},
   "outputs": [
    {
     "data": {
      "image/png": "[encoded data removed]",
      "text/plain": [
       "Figure(PyObject <Figure size 640x480 with 1 Axes>)"
      ]
     },
     "metadata": {},
     "output_type": "display_data"
    },
    {
     "data": {
      "text/plain": [
       "PyObject <matplotlib.legend.Legend object at 0x0000000042661E20>"
      ]
     },
     "execution_count": 31,
     "metadata": {},
     "output_type": "execute_result"
    }
   ],
   "source": [
    "for (i,t) in enumerate(ts)\n",
    "    y1, e1 = [a[1][i] for a in tmp1], [a[2][i] for a in tmp1]\n",
    "    y2, e2 = [a[1][i] for a in tmp2], [a[2][i] for a in tmp2]\n",
    "    x = ks\n",
    "    errorbar(x, y1, yerr=e1, label=string(t))\n",
    "    errorbar(x, y2, yerr=e2, label=string(t))\n",
    "end\n",
    "\n",
    "yscale(\"log\")\n",
    "xlabel(\"k\")\n",
    "ylabel(\"Phi(k, n=4)\")\n",
    "legend()"
   ]
  },
  {
   "cell_type": "code",
   "execution_count": 29,
   "metadata": {},
   "outputs": [
    {
     "data": {
      "text/plain": [
       "4-element Array{Tuple{Array{Float64,1},Array{Float64,1}},1}:\n",
       " ([5.012479229519372, 38.47921321709213, 359.6574788997936], [0.05783907643040237, 0.6399952594603849, 7.798663513504485])\n",
       " ([1.9508196862412623, 5.524201998152323, 20.470133396439735], [0.012909145050792178, 0.06965833433613633, 0.47678521491870823])\n",
       " ([1.9371202054202068, 5.453309148884202, 19.73453261397249], [0.012642095453801449, 0.06333782774159388, 0.38040352658242793])\n",
       " ([1.9283514108645337, 5.40131169035059, 19.54490625538273], [0.012580351885719675, 0.06406885862303688, 0.3991154693578115])"
      ]
     },
     "execution_count": 29,
     "metadata": {},
     "output_type": "execute_result"
    }
   ],
   "source": [
    "tmp2"
   ]
  },
  {
   "cell_type": "code",
   "execution_count": 33,
   "metadata": {},
   "outputs": [
    {
     "data": {
      "image/png": "[encoded data removed]",
      "text/plain": [
       "Figure(PyObject <Figure size 640x480 with 1 Axes>)"
      ]
     },
     "metadata": {},
     "output_type": "display_data"
    },
    {
     "data": {
      "text/plain": [
       "PyObject <matplotlib.legend.Legend object at 0x00000000426069A0>"
      ]
     },
     "execution_count": 33,
     "metadata": {},
     "output_type": "execute_result"
    }
   ],
   "source": [
    "for (i,t) in enumerate(ts)\n",
    "    y1, e1 = [a[1][i] for a in tmp1], [a[2][i] for a in tmp1]\n",
    "    y2, e2 = [a[1][i] for a in tmp2], [a[2][i] for a in tmp2]\n",
    "    x = ks\n",
    "    errorbar(x, y1, yerr=e1, label=string(t))\n",
    "    errorbar(x, y2, yerr=e2, label=string(t))\n",
    "end\n",
    "\n",
    "yscale(\"log\")\n",
    "xlabel(\"k\")\n",
    "ylabel(\"Phi(k, n=4)\")\n",
    "legend()"
   ]
  },
  {
   "cell_type": "code",
   "execution_count": 11,
   "metadata": {},
   "outputs": [
    {
     "name": "stdout",
     "output_type": "stream",
     "text": [
      "[mean(samples1 .^ (2t)) for t = 1:max_t] = [7.992324777530755, 135.60713642178152]\n",
      "[mean(samples3 .^ (2t)) for t = 1:max_t] = [7.989637871596435, 119.80075963936285]\n"
     ]
    }
   ],
   "source": [
    "sampler1(d1, d2, d3) = exp.(1im * 2pi * (kron(rand(d1*d2), ones(d3)) + kron(ones(d1), rand(d2*d3))))\n",
    "sampler2(d1, d2, d3) = exp.(1im * 2pi * rand(d1*d2*d3))\n",
    "sampler3(d1, d2, d3) = exp.(1im * 2pi * (kron(rand(d1*d2), ones(d3)) + kron(ones(d1), rand(d2), ones(d3)) + kron(ones(d1), rand(d2*d3))))\n",
    "\n",
    "\n",
    "begin\n",
    "    avg = 1000000\n",
    "    d1,d2,d3 = 2,2,2\n",
    "    max_t = 2\n",
    "\n",
    "    samples1 = [abs(sum(sampler1(d1,d2,d3))) for _ in 1:avg]\n",
    "    # samples2 = [abs(sum(sampler2(d1,d2,d3))) for _ in 1:avg]\n",
    "    samples3 = [abs(sum(sampler2(d1,d2,d3))) for _ in 1:avg]\n",
    "\n",
    "    @show [mean(samples1.^(2t)) for t in 1:max_t]\n",
    "    # @show [mean(samples2.^(2t)) for t in 1:max_t]\n",
    "    @show [mean(samples3.^(2t)) for t in 1:max_t]\n",
    "\n",
    "end;"
   ]
  },
  {
   "cell_type": "code",
   "execution_count": 34,
   "metadata": {},
   "outputs": [
    {
     "data": {
      "text/plain": [
       "6-element Array{Tuple{Array{Float64,1},Array{Float64,1}},1}:\n",
       " ([11.32359189258274, 236.29952481741904, 6681.723750343313], [0.8095773855868754, 29.21603967391721, 1228.773185569458])\n",
       " ([1.9821739361820156, 5.916940370068807, 24.498184541747033], [0.04535551581812609, 0.31735608384244407, 3.213941169455883])\n",
       " ([2.0134983605535663, 6.024465470311085, 24.367601772544873], [0.04507267206452266, 0.28367320085463194, 2.388595838180216])\n",
       " ([1.972154055267969, 5.791376352634025, 22.545154007589538], [0.043194476675490485, 0.24523836717578312, 1.755233622102816])\n",
       " ([1.9552757028228345, 5.588842662217546, 20.47011528611273], [0.04080279044351179, 0.20425369441296218, 1.2238814632605242])\n",
       " ([2.0086592139631074, 5.986897790456912, 23.262854915334792], [0.043852099247475386, 0.2361587407999351, 1.5230846450806175])"
      ]
     },
     "execution_count": 34,
     "metadata": {},
     "output_type": "execute_result"
    }
   ],
   "source": [
    "tmp2"
   ]
  },
  {
   "cell_type": "code",
   "execution_count": 3,
   "metadata": {},
   "outputs": [
    {
     "data": {
      "text/plain": [
       "6-element Array{Array{Bool,1},1}:\n",
       " [0, 0, 1, 1]\n",
       " [0, 1, 0, 1]\n",
       " [0, 1, 1, 0]\n",
       " [1, 0, 0, 1]\n",
       " [1, 0, 1, 0]\n",
       " [1, 1, 0, 0]"
      ]
     },
     "execution_count": 3,
     "metadata": {},
     "output_type": "execute_result"
    }
   ],
   "source": [
    "n_choose_k(4,2)"
   ]
  },
  {
   "cell_type": "code",
   "execution_count": 7,
   "metadata": {},
   "outputs": [
    {
     "data": {
      "text/plain": [
       "diag_frame_potential_cal (generic function with 1 method)"
      ]
     },
     "execution_count": 7,
     "metadata": {},
     "output_type": "execute_result"
    }
   ],
   "source": [
    "function diag_theta_expr(n, k)\n",
    "    all_terms = cat([collect(combinations(1:n, l)) for l in 1:k]..., dims=1)\n",
    "    nn = length(all_terms)\n",
    "    @variables iθ[1:nn]\n",
    "    expr = zeros(Num, 2^n)\n",
    "    for (i, indices) in enumerate(all_terms)\n",
    "        mask = ind2mask(indices, n)\n",
    "        expr += iθ[i] * mask\n",
    "    end\n",
    "    return expr\n",
    "end\n",
    "\n",
    "function diag_theta_expr_assign(n, all_terms)\n",
    "    nn = length(all_terms)\n",
    "    @variables iθ[1:nn]\n",
    "    expr = zeros(Num, 2^n)\n",
    "    for (i, indices) in enumerate(all_terms)\n",
    "        mask = ind2mask(indices, n)\n",
    "        expr += iθ[i] * mask\n",
    "    end\n",
    "    return expr\n",
    "end\n",
    "\n",
    "\n",
    "function sum_of_exp_expr_mult(a, b)\n",
    "    result = Num[]\n",
    "    for e1 in a\n",
    "        for e2 in b\n",
    "            tmp = e1+e2\n",
    "            push!(result, tmp)\n",
    "        end\n",
    "    end\n",
    "    return result\n",
    "end\n",
    "\n",
    "\n",
    "function diag_frame_potential_cal(n, k, max_t)\n",
    "    trU  = diag_theta_expr(n, k)\n",
    "    abs_trU_2 = sum_of_exp_expr_mult(trU, -trU)\n",
    "    tmp = [zero(Num)]\n",
    "    result = zeros(Int64, max_t)\n",
    "    for t in 1:max_t\n",
    "        tmp = sum_of_exp_expr_mult(tmp, abs_trU_2)\n",
    "        result[t] = count(x -> typeof(x.val)==Int64, tmp)\n",
    "    end\n",
    "    return result\n",
    "end"
   ]
  },
  {
   "cell_type": "code",
   "execution_count": 31,
   "metadata": {},
   "outputs": [
    {
     "data": {
      "text/plain": [
       "3-element Array{Array{Int64,1},1}:\n",
       " [8, 216, 8000]\n",
       " [8, 120, 2528]\n",
       " [8, 120, 2528]"
      ]
     },
     "execution_count": 31,
     "metadata": {},
     "output_type": "execute_result"
    }
   ],
   "source": [
    "n = 3\n",
    "# k = 3\n",
    "max_t = 3\n",
    "\n",
    "[diag_frame_potential_cal(n, k, max_t) for k in 1:n]"
   ]
  },
  {
   "cell_type": "code",
   "execution_count": 15,
   "metadata": {},
   "outputs": [
    {
     "data": {
      "text/plain": [
       "4-element Array{Array{Int64,1},1}:\n",
       " [32, 7776]\n",
       " [32, 2016]\n",
       " [32, 2016]\n",
       " [32, 2016]"
      ]
     },
     "execution_count": 15,
     "metadata": {},
     "output_type": "execute_result"
    }
   ],
   "source": [
    "Profile.init(n=10^7)\n",
    "Profile.clear()\n",
    "\n",
    "@profile [diag_frame_potential_cal(n, k, max_t) for k in 1:4]"
   ]
  },
  {
   "cell_type": "code",
   "execution_count": 8,
   "metadata": {},
   "outputs": [
    {
     "data": {
      "text/plain": [
       "2-element Array{Float64,1}:\n",
       "  16.006837942882527\n",
       " 496.023124284127"
      ]
     },
     "execution_count": 8,
     "metadata": {},
     "output_type": "execute_result"
    }
   ],
   "source": [
    "diag_frame_potential_estim1(n, k, 1:2, 1000000)[1]"
   ]
  },
  {
   "cell_type": "code",
   "execution_count": 56,
   "metadata": {},
   "outputs": [
    {
     "data": {
      "text/plain": [
       "6-element Array{Array{Int64,1},1}:\n",
       " [1]\n",
       " [2]\n",
       " [3]\n",
       " [1, 2]\n",
       " [1, 3]\n",
       " [2, 3]"
      ]
     },
     "execution_count": 56,
     "metadata": {},
     "output_type": "execute_result"
    }
   ],
   "source": [
    "n = 3\n",
    "k=2\n",
    "cat([collect(combinations(1:n, l)) for l in 1:k]..., dims=1)"
   ]
  },
  {
   "cell_type": "code",
   "execution_count": null,
   "metadata": {},
   "outputs": [],
   "source": []
  },
  {
   "cell_type": "code",
   "execution_count": null,
   "metadata": {},
   "outputs": [],
   "source": [
    "n = 4\n",
    "k = 2\n",
    "max_t = 3\n",
    "\n",
    "# diag_frame_potential_cal(n, k, max_t)\n",
    "tmp = begin\n",
    "    trU  = diag_theta_expr(n, k)\n",
    "    abs_trU_2 = sum_of_exp_expr_mult(trU, -trU)\n",
    "    tmp = [zero(Num)]\n",
    "    result = zeros(Int64, max_t)\n",
    "    for t in 1:max_t\n",
    "        tmp = sum_of_exp_expr_mult(tmp, abs_trU_2)\n",
    "    end\n",
    "    tmp\n",
    "end"
   ]
  },
  {
   "cell_type": "code",
   "execution_count": 28,
   "metadata": {},
   "outputs": [
    {
     "data": {
      "text/plain": [
       "256"
      ]
     },
     "execution_count": 28,
     "metadata": {},
     "output_type": "execute_result"
    }
   ],
   "source": [
    "length(tmp)"
   ]
  },
  {
   "cell_type": "code",
   "execution_count": null,
   "metadata": {},
   "outputs": [],
   "source": [
    "n = 3\n",
    "# k = 3\n",
    "# max_t = 3\n",
    "\n",
    "@show diag_frame_potential_cal(n, 2, 4)\n",
    "@show diag_frame_potential_cal(n, n, 4)"
   ]
  },
  {
   "cell_type": "code",
   "execution_count": null,
   "metadata": {},
   "outputs": [],
   "source": []
  },
  {
   "cell_type": "code",
   "execution_count": null,
   "metadata": {},
   "outputs": [],
   "source": []
  },
  {
   "cell_type": "code",
   "execution_count": null,
   "metadata": {},
   "outputs": [],
   "source": []
  },
  {
   "cell_type": "code",
   "execution_count": null,
   "metadata": {},
   "outputs": [],
   "source": []
  },
  {
   "cell_type": "code",
   "execution_count": null,
   "metadata": {},
   "outputs": [],
   "source": []
  }
 ],
 "metadata": {
  "kernelspec": {
   "display_name": "Julia 1.5.3",
   "language": "julia",
   "name": "julia-1.5"
  },
  "language_info": {
   "file_extension": ".jl",
   "mimetype": "application/julia",
   "name": "julia",
   "version": "1.5.3"
  }
 },
 "nbformat": 4,
 "nbformat_minor": 4
}
