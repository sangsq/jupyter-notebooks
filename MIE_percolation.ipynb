{
 "cells": [
  {
   "cell_type": "code",
   "execution_count": 1,
   "id": "d66c4f2f",
   "metadata": {},
   "outputs": [],
   "source": [
    "using PyPlot\n",
    "using LinearAlgebra\n",
    "using Statistics\n",
    "using Random\n",
    "using Profile"
   ]
  },
  {
   "cell_type": "code",
   "execution_count": 2,
   "id": "70177bb4",
   "metadata": {},
   "outputs": [],
   "source": [
    "const σ0 = ComplexF64[1 0; 0 1]\n",
    "const σ1 = ComplexF64[0 1; 1 0]\n",
    "const σ2 = ComplexF64[0 -1im; 1im 0]\n",
    "const σ3 = ComplexF64[1 0; 0 -1];"
   ]
  },
  {
   "cell_type": "code",
   "execution_count": 3,
   "id": "03c203fa",
   "metadata": {},
   "outputs": [
    {
     "data": {
      "text/plain": [
       "antipodal_sim (generic function with 1 method)"
      ]
     },
     "execution_count": 3,
     "metadata": {},
     "output_type": "execute_result"
    }
   ],
   "source": [
    "function state_update_under_mesurement(state, basis, n_step)\n",
    "    sequence = Array{ComplexF64, 1}[]\n",
    "    s0 = basis[:, 1]\n",
    "    s1 = basis[:, 2]\n",
    "\n",
    "    for _ in 1:n_step\n",
    "        push!(sequence, copy(state))\n",
    "        if rand_ghz && (rand()<0.5)\n",
    "            state[1], state[2] = state[2], state[1]\n",
    "        end\n",
    "        p = abs(state' * s0)^2\n",
    "        if rand() < p\n",
    "            state[1] *= s0[1]\n",
    "            state[2] *= s0[2]\n",
    "        else\n",
    "            state[1] *= s1[1]\n",
    "            state[2] *= s1[2]\n",
    "        end\n",
    "        state ./= norm(state)\n",
    "    end\n",
    "    return sequence\n",
    "end\n",
    "\n",
    "\n",
    "function GHZ_MIE(basis, n_step, rand_ghz=true)\n",
    "    state = ComplexF64[1, 1] ./ sqrt(2)\n",
    "    s0 = basis[:, 1]\n",
    "    s1 = basis[:, 2]\n",
    "\n",
    "    for _ in 1:n_step\n",
    "        if rand_ghz && (rand()<0.5)\n",
    "            state[1], state[2] = state[2], state[1]\n",
    "        end\n",
    "        p = abs(state' * s0)^2\n",
    "        if rand() < p\n",
    "            state[1] *= s0[1]\n",
    "            state[2] *= s0[2]\n",
    "        else\n",
    "            state[1] *= s1[1]\n",
    "            state[2] *= s1[2]\n",
    "        end\n",
    "        state ./= norm(state)\n",
    "    end\n",
    "    eps = 1e-64\n",
    "    a = abs(state[1])^2\n",
    "    b = abs(state[2])^2\n",
    "    return - a * log2(a+eps) - b * log2(b+eps)\n",
    "end\n",
    "\n",
    "\n",
    "\n",
    "function process_states(sequence)\n",
    "    tmp = Float64[]\n",
    "    for state in sequence\n",
    "        push!(tmp, min(abs(state[1]), abs(state[2])))\n",
    "    end\n",
    "    return tmp\n",
    "end\n",
    "\n",
    "m2s(i) = div(i+1, 2)\n",
    "s2m(i) = 2i-1\n",
    "\n",
    "\n",
    "function product_state(n)\n",
    "    state = Array{Int}(1:n)\n",
    "    state[1:2:end], state[2:2:end] = state[2:2:end], state[1:2:end]\n",
    "    return state\n",
    "end\n",
    "\n",
    "\n",
    "function one_layer_update!(state, p, q, periodic=true)\n",
    "    n = size(state, 1)\n",
    "    for i in 1:2:n\n",
    "        j =  i%n+1\n",
    "        if (j==1) && !periodic\n",
    "            continue\n",
    "        end\n",
    "        a, b = state[i], state[j]\n",
    "        (a == j) && continue\n",
    "        if rand() < p\n",
    "            state[i], state[j] = b, a\n",
    "            state[a], state[b] = j, i\n",
    "        elseif rand() < q\n",
    "            state[a], state[b] = b, a\n",
    "            state[i], state[j] = j, i\n",
    "        end\n",
    "    end\n",
    "    for i in 2:2:n\n",
    "        j =  i%n+1\n",
    "        if (j==1) && !periodic\n",
    "            continue\n",
    "        end\n",
    "        a, b = state[i], state[j]\n",
    "        (a == j) && continue\n",
    "        if rand() < p\n",
    "            state[i], state[j] = b, a\n",
    "            state[a], state[b] = j, i\n",
    "        elseif rand() < 1-q\n",
    "            state[a], state[b] = b, a\n",
    "            state[i], state[j] = j, i\n",
    "        end\n",
    "    end\n",
    "    return state\n",
    "end\n",
    "\n",
    "\n",
    "function sample_arcs(n)\n",
    "    state = product_state(2n)\n",
    "    for _ in 1:2n\n",
    "        one_layer_update!(state, 0, 0.5)\n",
    "    end\n",
    "    return state\n",
    "end\n",
    "\n",
    "\n",
    "function cal_MIE_MI_MN(state, avg, A, B, basis)\n",
    "    n = div(size(state, 1), 2)\n",
    "    saw = zeros(Bool, n)\n",
    "    MIE = 0.\n",
    "    MI = 0.\n",
    "    MN = 0.\n",
    "    c=0\n",
    "\n",
    "    for i in 1:n\n",
    "        if saw[i]\n",
    "            continue\n",
    "        end\n",
    "                \n",
    "        c = 0\n",
    "        tA = false\n",
    "        tB = false\n",
    "        \n",
    "        if (i in A)\n",
    "            tA = true\n",
    "        elseif (i in B)\n",
    "            tB = true\n",
    "        else\n",
    "            c = c+1\n",
    "        end\n",
    "        \n",
    "        saw[i] = true\n",
    "        j = m2s(state[2i])\n",
    "        \n",
    "        \n",
    "        while j != i\n",
    "            saw[j] = true\n",
    "\n",
    "            if (j in A)\n",
    "                tA = true\n",
    "            elseif (j in B)\n",
    "                tB = true\n",
    "            else\n",
    "                c = c+1\n",
    "            end\n",
    "            j = m2s(state[2j])\n",
    "        end\n",
    "\n",
    "        if tA && tB\n",
    "            tmp = 0.\n",
    "            for _ in 1:avg\n",
    "                tmp += GHZ_MIE(basis, c)\n",
    "            end\n",
    "            MIE += tmp / avg\n",
    "            MI += (c==0 ? 2 : 1)\n",
    "            MN += (c==0 ? 1 : 0)\n",
    "        end\n",
    "    end     \n",
    "    return MIE, MI, MN\n",
    "end\n",
    "\n",
    "function cross_ratio(A, B, n)\n",
    "    x1, x2 = A.start, A.stop+1\n",
    "    x3, x4 = B.start, B.stop+1\n",
    "    f(x,y) = n/pi * sin(abs(x-y)*pi/n)\n",
    "    w12 = f(x1, x2)\n",
    "    w34 = f(x3, x4)\n",
    "    w13 = f(x1, x3)\n",
    "    w24 = f(x2, x4)\n",
    "    return w12*w34/w13/w24\n",
    "end\n",
    "\n",
    "\n",
    "function antipodal_sim(basis_list, n, n_average, rd_list)\n",
    "    MIEs = zeros(Float64,  length(rd_list), length(basis_list))\n",
    "    MIs = zeros(Float64, length(rd_list))\n",
    "    MNs = zeros(Float64, length(rd_list))\n",
    "    for _ in 1:n_average\n",
    "        state = sample_arcs(n)\n",
    "        for (j, rd) in enumerate(rd_list)\n",
    "            A = 1:rd\n",
    "            B = div(n,2)+1:div(n,2)+rd\n",
    "            for (k, basis) in enumerate(basis_list)\n",
    "                MIE, MI, MN = cal_MIE_MI_MN(state, div(n,8), A, B, basis)\n",
    "                MIEs[j,k] += MIE\n",
    "                MIs[j] += MI\n",
    "                MNs[j] += MN\n",
    "            end\n",
    "        end\n",
    "    end\n",
    "    MIEs ./= n_average\n",
    "    MIs ./= n_average * length(basis_list)\n",
    "    MNs ./= n_average * length(basis_list)\n",
    "    return MIEs, MIs, MNs\n",
    "end"
   ]
  },
  {
   "cell_type": "code",
   "execution_count": 405,
   "id": "d77af3f6",
   "metadata": {},
   "outputs": [
    {
     "data": {
      "text/plain": [
       "([0.0010145257347802322; 0.002357475520172123; … ; 0.9841932063843443; 1.846], [0.088, 0.141, 0.18, 0.218, 0.261, 0.291, 0.321, 0.35, 0.372, 0.395  …  0.794, 0.834, 0.893, 0.949, 1.033, 1.136, 1.254, 1.425, 1.748, 3.692], [0.0, 0.0, 0.0, 0.0, 0.0, 0.0, 0.0, 0.001, 0.001, 0.001  …  0.036, 0.045, 0.059, 0.07, 0.101, 0.132, 0.175, 0.24, 0.366, 1.846])"
      ]
     },
     "execution_count": 405,
     "metadata": {},
     "output_type": "execute_result"
    }
   ],
   "source": [
    "n = 128\n",
    "n_average = 1000\n",
    "rd_list = 2:2:div(n,2)\n",
    "basis = [eigvecs(σ1+σ2+0.5σ3)]\n",
    "\n",
    "# Random.seed!(4)\n",
    "Profile.clear()\n",
    "@profile result = antipodal_sim(basis, n, n_average, rd_list)"
   ]
  },
  {
   "cell_type": "code",
   "execution_count": 406,
   "id": "311dd4dd",
   "metadata": {},
   "outputs": [
    {
     "name": "stdout",
     "output_type": "stream",
     "text": [
      "Overhead ╎ [+additional indent] Count File:Line; Function\n",
      "=========================================================\n",
      "   ╎1175 @Base\\task.jl:356; (::IJulia.var\"#15#18\")()\n",
      "   ╎ 1175 ...lia\\src\\eventloop.jl:8; eventloop(::ZMQ.Socket)\n",
      "   ╎  1175 @Base\\essentials.jl:709; invokelatest\n",
      "   ╎   1175 @Base\\essentials.jl:710; #invokelatest#1\n",
      "   ╎    1175 ...\\execute_request.jl:67; execute_request(::ZMQ.Socket, ...\n",
      "   ╎     1175 ...SoftGlobalScope.jl:65; softscope_include_string(::Mo...\n",
      "   ╎    ╎ 1175 @Base\\loading.jl:1091; include_string(::Function, ...\n",
      "Total snapshots: 1176\n"
     ]
    }
   ],
   "source": [
    "Profile.print(mincount=1000)"
   ]
  },
  {
   "cell_type": "code",
   "execution_count": 407,
   "id": "dc6a4a8f",
   "metadata": {},
   "outputs": [
    {
     "data": {
      "image/png": "[encoded data removed]",
      "text/plain": [
       "Figure(PyObject <Figure size 640x480 with 1 Axes>)"
      ]
     },
     "metadata": {},
     "output_type": "display_data"
    },
    {
     "data": {
      "text/plain": [
       "PyObject <matplotlib.legend.Legend object at 0x000000006491AD60>"
      ]
     },
     "execution_count": 407,
     "metadata": {},
     "output_type": "execute_result"
    }
   ],
   "source": [
    "fg, ax = subplots(1,1)\n",
    "\n",
    "\n",
    "x = [cross_ratio(1:rd, div(n,2)+1:div(n,2)+rd, n) for rd in rd_list]\n",
    "y1, y2, y3 = result\n",
    "\n",
    "ax.plot(x, y1, \"-o\", label=\"MIE\", ms=2)\n",
    "ax.plot(x, y2, \"-o\", label=\"MI\", ms=2)\n",
    "ax.plot(x, y3, \"-o\", label=\"MN\", ms=2)\n",
    "\n",
    "# ax.plot(x, x.^(2))\n",
    "\n",
    "ax.set_xscale(\"log\")\n",
    "ax.set_yscale(\"log\")\n",
    "ax.legend()"
   ]
  },
  {
   "cell_type": "code",
   "execution_count": 368,
   "id": "4813ff29",
   "metadata": {},
   "outputs": [
    {
     "name": "stdout",
     "output_type": "stream",
     "text": [
      "Variables\n",
      "  #self#\u001b[36m::Core.Compiler.Const(sample_arcs, false)\u001b[39m\n",
      "  n\u001b[36m::Int64\u001b[39m\n",
      "  state\u001b[36m::Array{Int64,1}\u001b[39m\n",
      "  @_4\u001b[33m\u001b[1m::Union{Nothing, Tuple{Int64,Int64}}\u001b[22m\u001b[39m\n",
      "\n",
      "Body\u001b[36m::Array{Int64,1}\u001b[39m\n",
      "\u001b[90m1 ─\u001b[39m %1  = (2 * n)\u001b[36m::Int64\u001b[39m\n",
      "\u001b[90m│  \u001b[39m       (state = Main.product_state(%1))\n",
      "\u001b[90m│  \u001b[39m %3  = (2 * n)\u001b[36m::Int64\u001b[39m\n",
      "\u001b[90m│  \u001b[39m %4  = (1:%3)\u001b[36m::Core.Compiler.PartialStruct(UnitRange{Int64}, Any[Core.Compiler.Const(1, false), Int64])\u001b[39m\n",
      "\u001b[90m│  \u001b[39m       (@_4 = Base.iterate(%4))\n",
      "\u001b[90m│  \u001b[39m %6  = (@_4 === nothing)\u001b[36m::Bool\u001b[39m\n",
      "\u001b[90m│  \u001b[39m %7  = Base.not_int(%6)\u001b[36m::Bool\u001b[39m\n",
      "\u001b[90m└──\u001b[39m       goto #4 if not %7\n",
      "\u001b[90m2 ┄\u001b[39m %9  = @_4::Tuple{Int64,Int64}\u001b[36m::Tuple{Int64,Int64}\u001b[39m\n",
      "\u001b[90m│  \u001b[39m       Core.getfield(%9, 1)\n",
      "\u001b[90m│  \u001b[39m %11 = Core.getfield(%9, 2)\u001b[36m::Int64\u001b[39m\n",
      "\u001b[90m│  \u001b[39m       Main.one_layer_update!(state, 0, 0.5)\n",
      "\u001b[90m│  \u001b[39m       (@_4 = Base.iterate(%4, %11))\n",
      "\u001b[90m│  \u001b[39m %14 = (@_4 === nothing)\u001b[36m::Bool\u001b[39m\n",
      "\u001b[90m│  \u001b[39m %15 = Base.not_int(%14)\u001b[36m::Bool\u001b[39m\n",
      "\u001b[90m└──\u001b[39m       goto #4 if not %15\n",
      "\u001b[90m3 ─\u001b[39m       goto #2\n",
      "\u001b[90m4 ┄\u001b[39m       return state\n"
     ]
    }
   ],
   "source": [
    "@code_warntype sample_arcs(10)"
   ]
  },
  {
   "cell_type": "code",
   "execution_count": 163,
   "id": "2dd4409a",
   "metadata": {},
   "outputs": [
    {
     "data": {
      "image/png": "[encoded data removed]",
      "text/plain": [
       "Figure(PyObject <Figure size 640x480 with 1 Axes>)"
      ]
     },
     "metadata": {},
     "output_type": "display_data"
    }
   ],
   "source": [
    "state = ComplexF64[1, 1] ./ sqrt(2)\n",
    "basis = eigvecs(σ1 + 0.01σ3)\n",
    "rand_ghz = true\n",
    "n_step = 1000000\n",
    "\n",
    "sequence = state_update_under_mesurement(state, basis, n_step)\n",
    "tmp = process_states(sequence)\n",
    "\n",
    "x = 1:n_step\n",
    "y = tmp\n",
    "\n",
    "plot(x,y, ms=1,\"o\")\n",
    "yscale(\"log\")"
   ]
  },
  {
   "cell_type": "code",
   "execution_count": 164,
   "id": "319e82ba",
   "metadata": {},
   "outputs": [
    {
     "data": {
      "image/png": "[encoded data removed]",
      "text/plain": [
       "Figure(PyObject <Figure size 640x480 with 1 Axes>)"
      ]
     },
     "metadata": {},
     "output_type": "display_data"
    }
   ],
   "source": [
    "state = ComplexF64[1, 1] ./ sqrt(2)\n",
    "basis = eigvecs(σ1 + 0.01σ3 + σ2)\n",
    "rand_ghz = true\n",
    "n_step = 1000000\n",
    "\n",
    "sequence = state_update_under_mesurement(state, basis, n_step)\n",
    "tmp = process_states(sequence)\n",
    "\n",
    "x = 1:n_step\n",
    "y = tmp\n",
    "\n",
    "plot(x,y, ms=1,\"o\")\n",
    "yscale(\"log\")"
   ]
  },
  {
   "cell_type": "code",
   "execution_count": 144,
   "id": "bbbf1abd",
   "metadata": {},
   "outputs": [
    {
     "data": {
      "image/png": "[encoded data removed]",
      "text/plain": [
       "Figure(PyObject <Figure size 640x480 with 1 Axes>)"
      ]
     },
     "metadata": {},
     "output_type": "display_data"
    }
   ],
   "source": [
    "state = ComplexF64[1, 1] ./ sqrt(2)\n",
    "basis = eigvecs(σ1 +  σ2)\n",
    "rand_ghz = true\n",
    "n_step = 1000000\n",
    "\n",
    "sequence = state_update_under_mesurement(state, basis, n_step)\n",
    "tmp = process_states(sequence)\n",
    "\n",
    "x = 1:n_step\n",
    "y = tmp\n",
    "\n",
    "plot(x,y, ms=1,\"o\")\n",
    "yscale(\"log\")"
   ]
  },
  {
   "cell_type": "code",
   "execution_count": 165,
   "id": "23eab482",
   "metadata": {},
   "outputs": [
    {
     "data": {
      "image/png": "[encoded data removed]",
      "text/plain": [
       "Figure(PyObject <Figure size 640x480 with 1 Axes>)"
      ]
     },
     "metadata": {},
     "output_type": "display_data"
    }
   ],
   "source": [
    "state = ComplexF64[1, 1] ./ sqrt(2)\n",
    "basis = eigvecs(σ1 +  2σ2)\n",
    "rand_ghz = true\n",
    "n_step = 1000000\n",
    "\n",
    "sequence = state_update_under_mesurement(state, basis, n_step)\n",
    "tmp = process_states(sequence)\n",
    "\n",
    "x = 1:n_step\n",
    "y = tmp\n",
    "\n",
    "plot(x,y, ms=1,\"o\")\n",
    "yscale(\"log\")"
   ]
  },
  {
   "cell_type": "code",
   "execution_count": null,
   "id": "dbedcadb",
   "metadata": {},
   "outputs": [],
   "source": []
  },
  {
   "cell_type": "code",
   "execution_count": 188,
   "id": "43b7b8c0",
   "metadata": {},
   "outputs": [
    {
     "data": {
      "text/plain": [
       "0"
      ]
     },
     "execution_count": 188,
     "metadata": {},
     "output_type": "execute_result"
    }
   ],
   "source": [
    "n = 32\n",
    "A = 1:div(n, 4)\n",
    "B = div(n, 2)+1:3*div(n,4)\n",
    "avg = 10\n",
    "\n",
    "basis = eigvecs(σ1 +  2σ2)\n",
    "state = sample_arcs(n)\n",
    "cal_MIE(state, avg, A, B, basis)\n"
   ]
  },
  {
   "cell_type": "code",
   "execution_count": 5,
   "id": "975b6ff8",
   "metadata": {},
   "outputs": [
    {
     "data": {
      "text/plain": [
       "GHZ_MIE (generic function with 2 methods)"
      ]
     },
     "execution_count": 5,
     "metadata": {},
     "output_type": "execute_result"
    }
   ],
   "source": [
    "mybinomial = binomial\n",
    "\n",
    "function GHZ_MIE(p, c, k)\n",
    "    eps=1e-12\n",
    "    lg(x) = log2(x+eps)\n",
    "    a(n) = p^n * (1-p)^(c-n)\n",
    "    b(n) = (1-p)^n * p^(c-n)\n",
    "    \n",
    "    if isone(k)\n",
    "        SAC = c * (- p * lg(p) - (1-p) * lg(1-p)) + 1\n",
    "        SC = begin\n",
    "            tmp = 0.\n",
    "            for n in 0:c\n",
    "                tmpp = (a(n) + b(n)) / 2\n",
    "                tmp += (- tmpp * lg(tmpp)) * mybinomial(c, n)\n",
    "            end\n",
    "            tmp\n",
    "        end\n",
    "    else\n",
    "        SAC = 1/(1-k) * (c * lg(p^k + (1-p)^k) + 1 - k)\n",
    "        SC = 1/(1-k) * (lg(\n",
    "            begin\n",
    "                tmp = 0.\n",
    "                for n in 0:c\n",
    "                    tmpp = (a(n) + b(n))^k\n",
    "                    tmp += tmpp * mybinomial(c, n)\n",
    "                end\n",
    "                tmp\n",
    "            end\n",
    "            ) - k)\n",
    "    end\n",
    "    return SAC - SC\n",
    "end"
   ]
  },
  {
   "cell_type": "code",
   "execution_count": 9,
   "id": "11189d07",
   "metadata": {},
   "outputs": [
    {
     "data": {
      "text/plain": [
       "1.0000000000057714"
      ]
     },
     "execution_count": 9,
     "metadata": {},
     "output_type": "execute_result"
    }
   ],
   "source": [
    "p = 0.5\n",
    "c=6\n",
    "k=2\n",
    "GHZ_MIE(p, c, k)"
   ]
  },
  {
   "cell_type": "code",
   "execution_count": 17,
   "id": "81920864",
   "metadata": {},
   "outputs": [
    {
     "data": {
      "text/plain": [
       "mybinomial (generic function with 1 method)"
      ]
     },
     "execution_count": 17,
     "metadata": {},
     "output_type": "execute_result"
    }
   ],
   "source": [
    "function GHZ_MIE(p, c, k)\n",
    "    eps = 1e-64\n",
    "    lg(x) = log2(x+eps)\n",
    "    a(n) = p^n * (1-p)^(c-n)\n",
    "    b(n) = (1-p)^n * p^(c-n)\n",
    "    \n",
    "    if isone(k)\n",
    "        SAC = c * (- p * lg(p) - (1-p) * lg(1-p)) + 1\n",
    "        SC = begin\n",
    "            tmp = 0.\n",
    "            for n in 0:c\n",
    "                tmpp = (a(n) + b(n)) / 2\n",
    "                tmp += (- tmpp * lg(tmpp)) * mybinomial(c, n)\n",
    "            end\n",
    "            tmp\n",
    "        end\n",
    "    else\n",
    "        SAC = 1/(1-k) * (c * lg(p^k + (1-p)^k) + 1 - k)\n",
    "        SC = 1/(1-k) * (lg(\n",
    "            begin\n",
    "                tmp = 0.\n",
    "                for n in 0:c\n",
    "                    tmpp = (a(n) + b(n)) ^ k\n",
    "                    tmp += tmpp * mybinomial(c, n)\n",
    "                end\n",
    "                tmp\n",
    "            end\n",
    "            ) - k)\n",
    "    end\n",
    "    return SAC - SC\n",
    "end\n",
    "\n",
    "\n",
    "\n",
    "# @everywhere function process_states(sequence)\n",
    "#     tmp = Float64[]\n",
    "#     for state in sequence\n",
    "#         push!(tmp, min(abs(state[1]), abs(state[2])))\n",
    "#     end\n",
    "#     return tmp\n",
    "# end\n",
    "\n",
    "m2s(i) = div(i+1, 2)\n",
    "s2m(i) = 2i-1\n",
    "\n",
    "\n",
    "function product_state(n)\n",
    "    state = Array{Int}(1:n)\n",
    "    state[1:2:end], state[2:2:end] = state[2:2:end], state[1:2:end]\n",
    "    return state\n",
    "end\n",
    "\n",
    "\n",
    "function one_layer_update!(state, p, q, periodic=true)\n",
    "    n = size(state, 1)\n",
    "    for i in 1:2:n\n",
    "        j =  i%n+1\n",
    "        if (j==1) && !periodic\n",
    "            continue\n",
    "        end\n",
    "        a, b = state[i], state[j]\n",
    "        (a == j) && continue\n",
    "        if rand() < p\n",
    "            state[i], state[j] = b, a\n",
    "            state[a], state[b] = j, i\n",
    "        elseif rand() < q\n",
    "            state[a], state[b] = b, a\n",
    "            state[i], state[j] = j, i\n",
    "        end\n",
    "    end\n",
    "    for i in 2:2:n\n",
    "        j =  i%n+1\n",
    "        if (j==1) && !periodic\n",
    "            continue\n",
    "        end\n",
    "        a, b = state[i], state[j]\n",
    "        (a == j) && continue\n",
    "        if rand() < p\n",
    "            state[i], state[j] = b, a\n",
    "            state[a], state[b] = j, i\n",
    "        elseif rand() < 1-q\n",
    "            state[a], state[b] = b, a\n",
    "            state[i], state[j] = j, i\n",
    "        end\n",
    "    end\n",
    "    return state\n",
    "end\n",
    "\n",
    "\n",
    "function sample_arcs(n)\n",
    "    state = product_state(2n)\n",
    "    for _ in 1:2n\n",
    "        one_layer_update!(state, 0, 0.5)\n",
    "    end\n",
    "    return state\n",
    "end\n",
    "\n",
    "\n",
    "function cal_MIE(state, AB_list, ps, ks)\n",
    "    n = div(size(state, 1), 2)\n",
    "    saw = zeros(Bool, n)\n",
    "    \n",
    "    MIE = zeros(Float64, length(AB_list), length(ps), length(ks))\n",
    "    \n",
    "    \n",
    "    MI = zeros(Float64, length(AB_list))\n",
    "    MN = zeros(Float64, length(AB_list))\n",
    "    \n",
    "    \n",
    "    cs = zeros(Int, length(AB_list))\n",
    "    tAs = zeros(Bool, length(AB_list))\n",
    "    tBs = zeros(Bool, length(AB_list))\n",
    "\n",
    "    for i in 1:n\n",
    "        if saw[i]\n",
    "            continue\n",
    "        end\n",
    "        \n",
    "        cs .= 0\n",
    "        tAs .= false\n",
    "        tBs .= false\n",
    "        \n",
    "        \n",
    "        j = i\n",
    "        while true\n",
    "#             print(j, \" \")\n",
    "            saw[j] = true\n",
    "\n",
    "            for (k, AB) in enumerate(AB_list)\n",
    "                A, B = AB\n",
    "\n",
    "                if (j in A)\n",
    "                    tAs[k] = true\n",
    "                elseif (j in B)\n",
    "                    tBs[k] = true\n",
    "                else\n",
    "                    cs[k] += 1\n",
    "                end\n",
    "            end\n",
    "            j = m2s(state[2j])\n",
    "            if j==i\n",
    "                break\n",
    "            end\n",
    "        end\n",
    "#         println(\"\")\n",
    "        \n",
    "        for kk in 1:length(AB_list)\n",
    "            if tAs[kk] && tBs[kk]\n",
    "                for ii in 1:length(ps), jj in 1:length(ks)\n",
    "                    # @show cs[kk]\n",
    "                    MIE[kk, ii, jj] += GHZ_MIE(ps[ii], cs[kk], ks[jj])\n",
    "                end\n",
    "                MI[kk] += 1\n",
    "                MN[kk] += (cs[kk]==0) ? 1 : 0\n",
    "            end\n",
    "        end\n",
    "        # @show cs\n",
    "    end     \n",
    "    return MIE, MI, MN\n",
    "end\n",
    "\n",
    "function cross_ratio(A, B, n)\n",
    "    x1, x2 = A.start, A.stop+1\n",
    "    x3, x4 = B.start, B.stop+1\n",
    "    f(x,y) = n/pi * sin(abs(x-y)*pi/n)\n",
    "    w12 = f(x1, x2)\n",
    "    w34 = f(x3, x4)\n",
    "    w13 = f(x1, x3)\n",
    "    w24 = f(x2, x4)\n",
    "    return w12*w34/w13/w24\n",
    "end\n",
    "\n",
    "mybinomial(a,b) = binomial(BigInt(a), BigInt(b))"
   ]
  },
  {
   "cell_type": "code",
   "execution_count": 18,
   "id": "169d200f",
   "metadata": {},
   "outputs": [
    {
     "data": {
      "text/plain": [
       "([0.03; 0.03; … ; 1.54; 2.0], [0.03, 0.03, 0.06, 0.07, 0.07, 0.09, 0.11, 0.12, 0.13, 0.15  …  0.83, 0.85, 0.88, 0.92, 1.0, 1.06, 1.14, 1.31, 1.54, 2.0], [0.0, 0.0, 0.0, 0.0, 0.0, 0.0, 0.0, 0.0, 0.0, 0.0  …  0.11, 0.11, 0.12, 0.13, 0.16, 0.18, 0.23, 0.31, 0.44, 2.0])"
      ]
     },
     "execution_count": 18,
     "metadata": {},
     "output_type": "execute_result"
    }
   ],
   "source": [
    "n = 256\n",
    "AB_list = [(1:rd, div(n,2) .+ (1:rd)) for rd in 2:2:div(n,2)]\n",
    "ps = [0.5]\n",
    "ks=[1]\n",
    "avg = 100\n",
    "\n",
    "\n",
    "state = sample_arcs(n)\n",
    "tmp = [\n",
    "    begin\n",
    "        state = sample_arcs(n)\n",
    "        cal_MIE(state, AB_list, ps, ks)\n",
    "    end\n",
    "        for _ in 1:avg]\n",
    "\n",
    "MIE, MI, MN = mean([a[1] for a in tmp]), mean([a[2] for a in tmp]), mean([a[3] for a in tmp])"
   ]
  },
  {
   "cell_type": "code",
   "execution_count": 19,
   "id": "79fab4eb",
   "metadata": {},
   "outputs": [
    {
     "data": {
      "image/png": "[encoded data removed]",
      "text/plain": [
       "Figure(PyObject <Figure size 640x480 with 1 Axes>)"
      ]
     },
     "metadata": {},
     "output_type": "display_data"
    },
    {
     "data": {
      "text/plain": [
       "1-element Array{PyCall.PyObject,1}:\n",
       " PyObject <matplotlib.lines.Line2D object at 0x0000000000E33340>"
      ]
     },
     "execution_count": 19,
     "metadata": {},
     "output_type": "execute_result"
    }
   ],
   "source": [
    "crs = [cross_ratio(A, B, n) for (A,B) in AB_list]\n",
    "\n",
    "m = length(AB_list)\n",
    "\n",
    "MIE = reshape(MIE, m)\n",
    "MI = reshape(MI, m)\n",
    "MN = reshape(MN, m)\n",
    "\n",
    "plot(crs, MI, \"-o\")\n",
    "plot(crs, MN, \"-o\")\n",
    "plot(crs, MIE, \"-o\")"
   ]
  },
  {
   "cell_type": "code",
   "execution_count": null,
   "id": "3ecb8a9e",
   "metadata": {},
   "outputs": [],
   "source": []
  }
 ],
 "metadata": {
  "kernelspec": {
   "display_name": "Julia 1.5.3",
   "language": "julia",
   "name": "julia-1.5"
  },
  "language_info": {
   "file_extension": ".jl",
   "mimetype": "application/julia",
   "name": "julia",
   "version": "1.5.3"
  }
 },
 "nbformat": 4,
 "nbformat_minor": 5
}
