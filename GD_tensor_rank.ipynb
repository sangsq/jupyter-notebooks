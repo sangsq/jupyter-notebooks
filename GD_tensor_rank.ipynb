{
 "cells": [
  {
   "cell_type": "code",
   "execution_count": 4,
   "metadata": {},
   "outputs": [],
   "source": [
    "using Zygote\n",
    "using LinearAlgebra\n",
    "using PyPlot"
   ]
  },
  {
   "cell_type": "markdown",
   "metadata": {},
   "source": [
    "In this notebook we look into the performance of matrix completion / tensor factorization using neural networks, following [this](http://www.offconvex.org/2021/07/08/imp-reg-tf/) blog post."
   ]
  },
  {
   "cell_type": "code",
   "execution_count": 11,
   "metadata": {},
   "outputs": [
    {
     "data": {
      "text/plain": [
       "train! (generic function with 1 method)"
      ]
     },
     "execution_count": 11,
     "metadata": {},
     "output_type": "execute_result"
    }
   ],
   "source": [
    "function rand_mat_given_k(n, k)\n",
    "    mat = rand(n,k) * rand(k,n)\n",
    "    return mat ./ norm(mat)\n",
    "end\n",
    "\n",
    "function get_mask(n, p)\n",
    "    mask = [rand()>p for _ in 1:n*n]\n",
    "    return reshape(mask, n, n)\n",
    "end\n",
    "\n",
    "\n",
    "function l2_loss(mat, mask, Ws)\n",
    "    tmp = (*(Ws...) - mat) .* mask\n",
    "    return sum(tmp .^ 2)\n",
    "end\n",
    "\n",
    "function train!(mat, mask, lr, Ws)\n",
    "    _, _, g_Ws = gradient(l2_loss, mat, mask, Ws)\n",
    "    Ws .-= lr .* g_Ws\n",
    "    return nothing\n",
    "end"
   ]
  },
  {
   "cell_type": "markdown",
   "metadata": {},
   "source": [
    "## Matrix completion"
   ]
  },
  {
   "cell_type": "markdown",
   "metadata": {},
   "source": [
    "### Fixed depth = 2, change learning rate"
   ]
  },
  {
   "cell_type": "code",
   "execution_count": 126,
   "metadata": {},
   "outputs": [],
   "source": [
    "m = 2\n",
    "n = 64\n",
    "k = 12\n",
    "p = 0.5\n",
    "n_step = 2000\n",
    "\n",
    "ini_norm = (1e-8).^(1/m)\n",
    "lr = 1e-2\n",
    "\n",
    "Ws = [randn(n,n) for _ in 1:m] .* ini_norm\n",
    "mat = rand_mat_given_k(n, k)\n",
    "# mat = randn(n,n)\n",
    "mask = get_mask(n, p)\n",
    "\n",
    "losses = []\n",
    "errs = []\n",
    "\n",
    "\n",
    "\n",
    "for _ in 1:n_step\n",
    "    train!(mat, mask, lr, Ws)\n",
    "    loss = l2_loss(mat, mask, Ws) ./ sum(mask)\n",
    "    err = l2_loss(mat, .!mask, Ws) ./ sum(.!mask)\n",
    "    push!(losses, loss)\n",
    "    push!(errs, err)\n",
    "end"
   ]
  },
  {
   "cell_type": "code",
   "execution_count": 127,
   "metadata": {},
   "outputs": [
    {
     "data": {
      "image/png": "[encoded data removed]",
      "text/plain": [
       "Figure(PyObject <Figure size 640x480 with 1 Axes>)"
      ]
     },
     "metadata": {},
     "output_type": "display_data"
    },
    {
     "data": {
      "text/plain": [
       "PyObject <matplotlib.legend.Legend object at 0x0000000064143EE0>"
      ]
     },
     "execution_count": 127,
     "metadata": {},
     "output_type": "execute_result"
    }
   ],
   "source": [
    "plot(losses, \"-o\", ms=1, label=\"normalized loss\")\n",
    "plot(errs, \"-o\", ms=1, label=\"normalized err\")\n",
    "yscale(\"log\")\n",
    "legend()"
   ]
  },
  {
   "cell_type": "code",
   "execution_count": 66,
   "metadata": {},
   "outputs": [
    {
     "data": {
      "text/plain": [
       "100-element Array{Any,1}:\n",
       "   3.6529179730351864e279\n",
       " NaN\n",
       " NaN\n",
       " NaN\n",
       " NaN\n",
       " NaN\n",
       " NaN\n",
       " NaN\n",
       " NaN\n",
       " NaN\n",
       " NaN\n",
       " NaN\n",
       " NaN\n",
       "   ⋮\n",
       " NaN\n",
       " NaN\n",
       " NaN\n",
       " NaN\n",
       " NaN\n",
       " NaN\n",
       " NaN\n",
       " NaN\n",
       " NaN\n",
       " NaN\n",
       " NaN\n",
       " NaN"
      ]
     },
     "execution_count": 66,
     "metadata": {},
     "output_type": "execute_result"
    }
   ],
   "source": [
    "losses"
   ]
  },
  {
   "cell_type": "code",
   "execution_count": 17,
   "metadata": {},
   "outputs": [
    {
     "data": {
      "text/plain": [
       "8×8 Array{Bool,2}:\n",
       " 1  1  1  1  1  1  1  1\n",
       " 1  1  1  0  1  1  1  1\n",
       " 1  0  1  1  1  1  1  1\n",
       " 1  1  1  1  1  1  1  1\n",
       " 1  1  1  0  1  1  1  1\n",
       " 1  1  1  1  1  0  1  1\n",
       " 1  1  1  1  1  1  1  1\n",
       " 1  1  1  1  1  1  1  1"
      ]
     },
     "execution_count": 17,
     "metadata": {},
     "output_type": "execute_result"
    }
   ],
   "source": [
    "mask"
   ]
  },
  {
   "cell_type": "code",
   "execution_count": 18,
   "metadata": {},
   "outputs": [
    {
     "data": {
      "text/plain": [
       "1-element Array{Array{Float64,2},1}:\n",
       " [-8078.541977917878 1095.3318247755824 … 10061.667922392518 4805.541908299654; -1458.9476865415784 8192.371673592666 … -5392.612976088403 -8080.408973099034; … ; -6984.488832229687 -7972.2685265714545 … 4381.108486960437 6816.586950212095; 5851.07235370321 1736.0214276731454 … -8551.897599453881 -1274.9795665158942]"
      ]
     },
     "execution_count": 18,
     "metadata": {},
     "output_type": "execute_result"
    }
   ],
   "source": [
    "Ws"
   ]
  },
  {
   "cell_type": "code",
   "execution_count": null,
   "metadata": {},
   "outputs": [],
   "source": []
  }
 ],
 "metadata": {
  "kernelspec": {
   "display_name": "Julia 1.5.3",
   "language": "julia",
   "name": "julia-1.5"
  },
  "language_info": {
   "file_extension": ".jl",
   "mimetype": "application/julia",
   "name": "julia",
   "version": "1.5.3"
  },
  "orig_nbformat": 4
 },
 "nbformat": 4,
 "nbformat_minor": 2
}
