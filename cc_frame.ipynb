{
 "cells": [
  {
   "cell_type": "code",
   "execution_count": 1,
   "id": "5229ce68",
   "metadata": {},
   "outputs": [
    {
     "data": {
      "text/plain": [
       "4-element Array{Int64,1}:\n",
       " 1\n",
       " 0\n",
       " 0\n",
       " 1"
      ]
     },
     "execution_count": 1,
     "metadata": {},
     "output_type": "execute_result"
    }
   ],
   "source": [
    "using LinearAlgebra\n",
    "using Combinatorics\n",
    "using Statistics\n",
    "using PyPlot\n",
    "using BenchmarkTools\n",
    "using Profile\n",
    "\n",
    "const X = [0, 1, 1, 0]\n",
    "const Y = [0, 1im, -1im, 0]\n",
    "const Z = [1, 0, 0, -1]\n",
    "const II = [1, 0, 0, 1]"
   ]
  },
  {
   "cell_type": "code",
   "execution_count": 2,
   "id": "4f846bc8",
   "metadata": {},
   "outputs": [
    {
     "data": {
      "text/plain": [
       "true_op (generic function with 1 method)"
      ]
     },
     "execution_count": 2,
     "metadata": {},
     "output_type": "execute_result"
    }
   ],
   "source": [
    "function n_choose_k(n, k)\n",
    "    if k==0\n",
    "        return [Bool[0 for _ in 1:n]]\n",
    "    elseif k==n\n",
    "        return [Bool[1 for _ in 1:n]]\n",
    "    else\n",
    "        a = n_choose_k(n-1, k)\n",
    "        b = n_choose_k(n-1, k-1)\n",
    "        return [\n",
    "            [Bool[0, i...] for i in a]..., \n",
    "            [Bool[1, i...] for i in b]...\n",
    "        ]\n",
    "    end\n",
    "end\n",
    "\n",
    "function all_bs(n)\n",
    "    if n==1\n",
    "        return [false false]\n",
    "    else\n",
    "        tmp = all_bs(n-1)\n",
    "        tmpp = Array{Bool, 1}[]\n",
    "        for a in tmp\n",
    "            push!(tmpp, [0, a...])\n",
    "            push!(tmpp, [1, a...])\n",
    "        end\n",
    "        return tmpp\n",
    "    end\n",
    "end\n",
    "\n",
    "function cal_op(c)\n",
    "    n = length(c)\n",
    "    bs = all_bs(n)\n",
    "    op = zeros(2^n)\n",
    "    ii = [1, 1]\n",
    "    zz = [1, -1]\n",
    "    for a in bs, b in bs\n",
    "        if sum(a) != sum(b)\n",
    "            continue\n",
    "        end\n",
    "        tmp = [ii + (a[i] ? -1 : 1) * zz for i in 1:n]\n",
    "        tmpp = kron(tmp...)\n",
    "        tmpp *= (-1)^(sum(c .* b)) / binomial(n, sum(a))\n",
    "        op += tmpp\n",
    "    end\n",
    "    op ./= 2^n\n",
    "    return op\n",
    "end \n",
    "\n",
    "function true_op(c)\n",
    "    n = length(c)\n",
    "    k = sum(c)\n",
    "    ii = [1, 1]\n",
    "    zz = [1, -1]\n",
    "    tmp = n_choose_k(n, k)\n",
    "    op = zeros(2^n)\n",
    "    for b in tmp\n",
    "        op += kron([b[i]==1 ? zz : ii for i in 1:n]...)\n",
    "    end\n",
    "    op ./= binomial(n, k)\n",
    "    return op\n",
    "end"
   ]
  },
  {
   "cell_type": "code",
   "execution_count": 3,
   "id": "1e900a3e",
   "metadata": {},
   "outputs": [
    {
     "data": {
      "text/plain": [
       "16-element Array{Float64,1}:\n",
       " 0.0\n",
       " 0.0\n",
       " 0.0\n",
       " 0.0\n",
       " 0.0\n",
       " 0.0\n",
       " 0.0\n",
       " 0.0\n",
       " 0.0\n",
       " 0.0\n",
       " 0.0\n",
       " 0.0\n",
       " 0.0\n",
       " 0.0\n",
       " 0.0\n",
       " 0.0"
      ]
     },
     "execution_count": 3,
     "metadata": {},
     "output_type": "execute_result"
    }
   ],
   "source": [
    "c = [1, 1, 0, 0]\n",
    "cal_op(c) - true_op(c)"
   ]
  },
  {
   "cell_type": "code",
   "execution_count": 4,
   "id": "ddb89bba",
   "metadata": {},
   "outputs": [
    {
     "data": {
      "text/plain": [
       "analysis_report (generic function with 1 method)"
      ]
     },
     "execution_count": 4,
     "metadata": {},
     "output_type": "execute_result"
    }
   ],
   "source": [
    "function all_qs(n)\n",
    "    if n==1\n",
    "        return [0, 1, 2, 3]\n",
    "    else\n",
    "        tmp = all_qs(n-1)\n",
    "        tmpp = Array{Int, 1}[]\n",
    "        for a in tmp\n",
    "            push!(tmpp, [0, a...])\n",
    "            push!(tmpp, [1, a...])\n",
    "            push!(tmpp, [2, a...])\n",
    "            push!(tmpp, [3, a...])\n",
    "        end\n",
    "        return tmpp\n",
    "    end\n",
    "end\n",
    "\n",
    "function charge_q_mask(n, q)\n",
    "    tmp = n_choose_k(n, q)\n",
    "    mask = zeros(Bool, 2^n)\n",
    "    for a in tmp\n",
    "        idx = sum([2^(i-1) * a[i] for i in 1:n]) + 1\n",
    "        mask[idx] = true\n",
    "    end\n",
    "    return mask\n",
    "end\n",
    "\n",
    "function charge_q_indices(n, q)\n",
    "    tmp = n_choose_k(n, q)\n",
    "    mask = zeros(Bool, 2^n)\n",
    "    indices = Int[]\n",
    "    for a in tmp\n",
    "        idx = sum([2^(i-1) * a[i] for i in 1:n]) + 1\n",
    "        push!(indices, idx)\n",
    "    end\n",
    "    sort!(indices)\n",
    "    return indices\n",
    "end\n",
    "\n",
    "\"\"\"\n",
    "frome 1L 1R 2L 2R => 1L 2L 1R 2R\n",
    "\"\"\"\n",
    "function reorder_dims(op)\n",
    "    n = Int(log2(length(op)) /2)\n",
    "    good_order = [[2i-1 for i in 1:n]..., [2i for i in 1:n]...]\n",
    "    tmp = reshape(op, [2 for _ in 1:2n]...)\n",
    "    tmpp = permutedims(tmp, good_order)\n",
    "    return reshape(tmpp, length(op))\n",
    "end\n",
    "\n",
    "\n",
    "function paired_state(n, perm)\n",
    "    d = 2^n\n",
    "    result = zeros(Int, d^4)\n",
    "    for a1 in 1:d, a2 in 1:d\n",
    "        if perm==false\n",
    "            idx = (a1-1) * d^0 + (a1-1) * d^1 + (a2-1) * d^2 + (a2-1) * d^3\n",
    "        else\n",
    "            idx = (a1-1) * d^0 + (a2-1) * d^1 + (a2-1) * d^2 + (a1-1) * d^3\n",
    "        end\n",
    "        result[idx + 1] += 1\n",
    "    end\n",
    "    return result\n",
    "end\n",
    "\n",
    "# \"\"\"\n",
    "# Hilbert space:\n",
    "# 1 \\otimes 1bar \\otimes 2 \\otimes 2bar\n",
    "# \"\"\"\n",
    "function charged_paired_state(n, perm, q1, q2)\n",
    "    d = 2^n\n",
    "    result = zeros(Int, d^4)\n",
    "    indices1 = charge_q_indices(n, q1)\n",
    "    indices2 = charge_q_indices(n, q2)\n",
    "    for a1 in indices1, a2 in indices2\n",
    "        if perm==false\n",
    "            idx = (a1-1) * d^0 + (a1-1) * d^1 + (a2-1) * d^2 + (a2-1) * d^3\n",
    "        else\n",
    "            idx = (a1-1) * d^0 + (a2-1) * d^1 + (a2-1) * d^2 + (a1-1) * d^3\n",
    "        end\n",
    "        result[idx + 1] += 1\n",
    "    end\n",
    "    return result\n",
    "end\n",
    "\n",
    "function charged_2nd_frame_op(n)\n",
    "    d = 2^n\n",
    "    part1 = zeros(d^4 * d^4)\n",
    "    part2 = zeros(d^4 * d^4)\n",
    "    \n",
    "    for q1 in 0:n, q2 in 0:n\n",
    "        if q1==q2\n",
    "            continue\n",
    "        end\n",
    "        tmp1 = charged_paired_state(n, false, q1, q2)\n",
    "        tmp2 = charged_paired_state(n, true, q1, q2)\n",
    "        part1 += (kron(tmp1, tmp1) + kron(tmp2, tmp2)) / (binomial(n, q1) * binomial(n, q2))\n",
    "    end\n",
    "    \n",
    "    for q in 0:n\n",
    "        dq = binomial(n, q)\n",
    "        tmp1 = charged_paired_state(n, false, q, q)\n",
    "        tmp2 = charged_paired_state(n, true, q, q)\n",
    "        if dq==1\n",
    "            part2 += kron(tmp1, tmp1)\n",
    "        else\n",
    "            part2 += (kron(tmp1, tmp1) + kron(tmp2, tmp2)) / (dq^2 - 1)\n",
    "            part2 -= (kron(tmp1, tmp2) + kron(tmp2, tmp1)) / ((dq^2 - 1) * dq)\n",
    "        end\n",
    "    end\n",
    "    result = part1 + part2\n",
    "    result = reshape(result, d^4, d^4)\n",
    "    return result\n",
    "end\n",
    "\n",
    "function component_square(a, W, b)\n",
    "    n = Int(log2(size(W, 1))/4)\n",
    "    a = reorder_dims(a)\n",
    "    b = reorder_dims(b)\n",
    "    return kron(a, a)' * W * kron(b, b)\n",
    "end\n",
    "\n",
    "function qs_to_pauli(qs)\n",
    "    tmp = (II, X, Y, Z)\n",
    "    tmpp = [tmp[i+1] for i in qs]\n",
    "    return kron(tmpp...)\n",
    "end\n",
    "\n",
    "function qs_to_str(qs)\n",
    "    tmp = (\"I\", \"X\", \"Y\", \"Z\")\n",
    "    tmpp = [tmp[i+1] for i in qs]\n",
    "    return *(tmpp...)\n",
    "end\n",
    "\n",
    "function component_square_analysis(W, b)\n",
    "    n = Int(log2(size(W, 1))/4)\n",
    "    eps = 1e-7\n",
    "    qss = all_qs(n)\n",
    "    for qs in qss\n",
    "        str = qs_to_str(qs)\n",
    "        pauli = qs_to_pauli(qs)\n",
    "        tmp = component_square(pauli, W, b)\n",
    "        if norm(tmp) > eps\n",
    "            println(\"$(str) : $(tmp)\")\n",
    "        end\n",
    "    end\n",
    "    return nothing\n",
    "end\n",
    "\n",
    "function full_component_analysis(W)\n",
    "    n = Int(log2(size(W, 1))/4)\n",
    "    eps = 1e-7\n",
    "    qss = all_qs(n)\n",
    "    d = length(qss)\n",
    "    all_paulis = [reorder_dims(qs_to_pauli(qs)) for qs in qss]\n",
    "    result = zeros(Float64, d^2, d^2)\n",
    "    for i1 in 1:d, i2 in 1:d\n",
    "        p1, p2 = all_paulis[i1], all_paulis[i2]\n",
    "        for j1 in 1:d, j2 in 1:d\n",
    "            q1, q2 = all_paulis[j1], all_paulis[j2]\n",
    "            tmp = kron(p1, p2)' * W * kron(q1, q2)\n",
    "            if norm(tmp) > eps\n",
    "                result[(i1-1) + (i2-1)*d + 1, (j1-1) + (j2-1)*d + 1] = tmp\n",
    "            end\n",
    "        end\n",
    "    end\n",
    "    return result\n",
    "end\n",
    "\n",
    "function analysis_report(n, result)\n",
    "    eps = 1e-7\n",
    "    qss = all_qs(n)\n",
    "    d = length(qss)\n",
    "    for i1 in 1:d, i2 in 1:i1\n",
    "        a = (i1-1) + (i2-1)*d + 1\n",
    "        str1 = qs_to_str(qss[i1]) * \" \" * qs_to_str(qss[i2])\n",
    "        print(\"$(str1) : \")\n",
    "        for j1 in 1:d, j2 in 1:d\n",
    "            b = (j1-1) + (j2-1)*d + 1\n",
    "            if norm(result[a,b]) > eps\n",
    "                str2 = qs_to_str(qss[j1]) * \"_\" * qs_to_str(qss[j2])\n",
    "                print(\"$(round(result[a,b], digits=2))$(str2) \")\n",
    "            end\n",
    "        end\n",
    "        print(\"\\n\")\n",
    "    end\n",
    "    return nothing\n",
    "end"
   ]
  },
  {
   "cell_type": "code",
   "execution_count": 5,
   "id": "f8b9097a",
   "metadata": {},
   "outputs": [
    {
     "data": {
      "text/plain": [
       "3.466673899897025e-32"
      ]
     },
     "execution_count": 5,
     "metadata": {},
     "output_type": "execute_result"
    }
   ],
   "source": [
    "W = charged_2nd_frame_op(3)\n",
    "norm(W*W-W)^2"
   ]
  },
  {
   "cell_type": "code",
   "execution_count": 72,
   "id": "47f79b23",
   "metadata": {},
   "outputs": [
    {
     "data": {
      "text/plain": [
       "1.2040914012309e-30"
      ]
     },
     "execution_count": 72,
     "metadata": {},
     "output_type": "execute_result"
    }
   ],
   "source": [
    "W = charged_2nd_frame_op(3)\n",
    "q = reorder_dims(kron(II, II, II))\n",
    "qq = kron(q, q)\n",
    "norm(W*qq - qq)^2"
   ]
  },
  {
   "cell_type": "code",
   "execution_count": 13,
   "id": "cca5cce7",
   "metadata": {},
   "outputs": [
    {
     "data": {
      "text/plain": [
       "1"
      ]
     },
     "execution_count": 13,
     "metadata": {},
     "output_type": "execute_result"
    }
   ],
   "source": [
    "q = reorder_dims(kron(II, II))\n",
    "qq = kron(q, q)\n",
    "qq' * charged_paired_state(2, true, 0, 0)"
   ]
  },
  {
   "cell_type": "code",
   "execution_count": 110,
   "id": "ac9cfcb5",
   "metadata": {},
   "outputs": [
    {
     "name": "stdout",
     "output_type": "stream",
     "text": [
      "ZI : 5.333333333333334\n",
      "XX : 1.3333333333333333\n",
      "YX : 1.3333333333333333 + 0.0im\n",
      "XY : 1.3333333333333333 + 0.0im\n",
      "YY : 1.3333333333333333 + 0.0im\n",
      "IZ : 5.333333333333334\n"
     ]
    }
   ],
   "source": [
    "W = charged_2nd_frame_op(2)\n",
    "component_square_analysis(W, kron(Z, II))"
   ]
  },
  {
   "cell_type": "code",
   "execution_count": 75,
   "id": "b8e3c835",
   "metadata": {},
   "outputs": [
    {
     "name": "stdout",
     "output_type": "stream",
     "text": [
      "ZII : 8.888888888888886\n",
      "XXI : 1.3333333333333337\n",
      "YXI : 1.3333333333333337 + 0.0im\n",
      "XYI : 1.3333333333333337 + 0.0im\n",
      "YYI : 1.3333333333333337 + 0.0im\n",
      "IZI : 8.888888888888886\n",
      "ZZI : 1.7777777777777783\n",
      "XIX : 1.3333333333333337\n",
      "YIX : 1.3333333333333337 + 0.0im\n",
      "IXX : 1.3333333333333337\n",
      "ZXX : 1.3333333333333337\n",
      "IYX : 1.3333333333333337 + 0.0im\n",
      "ZYX : 1.3333333333333337 + 0.0im\n",
      "XZX : 1.3333333333333337\n",
      "YZX : 1.3333333333333337 + 0.0im\n",
      "XIY : 1.3333333333333337 + 0.0im\n",
      "YIY : 1.3333333333333337 + 0.0im\n",
      "IXY : 1.3333333333333337 + 0.0im\n",
      "ZXY : 1.3333333333333337 + 0.0im\n",
      "IYY : 1.3333333333333337 + 0.0im\n",
      "ZYY : 1.3333333333333337 + 0.0im\n",
      "XZY : 1.3333333333333337 + 0.0im\n",
      "YZY : 1.3333333333333337 + 0.0im\n",
      "IIZ : 8.888888888888886\n",
      "ZIZ : 1.7777777777777783\n",
      "XXZ : 1.3333333333333337\n",
      "YXZ : 1.3333333333333337 + 0.0im\n",
      "XYZ : 1.3333333333333337 + 0.0im\n",
      "YYZ : 1.3333333333333337 + 0.0im\n",
      "IZZ : 1.7777777777777775\n"
     ]
    }
   ],
   "source": [
    "W = charged_2nd_frame_op(3)\n",
    "component_square_analysis(W, kron(Z, II, II))"
   ]
  },
  {
   "cell_type": "code",
   "execution_count": 96,
   "id": "033ba102",
   "metadata": {},
   "outputs": [
    {
     "data": {
      "text/plain": [
       "256×256 Array{Float64,2}:\n",
       " 16.0  0.0  0.0  0.0  0.0  0.0  0.0  …  0.0  0.0  0.0  0.0  0.0  0.0   0.0\n",
       "  0.0  0.0  0.0  0.0  0.0  0.0  0.0     0.0  0.0  0.0  0.0  0.0  0.0   0.0\n",
       "  0.0  0.0  0.0  0.0  0.0  0.0  0.0     0.0  0.0  0.0  0.0  0.0  0.0   0.0\n",
       "  0.0  0.0  0.0  8.0  0.0  0.0  0.0     0.0  0.0  0.0  0.0  0.0  0.0   0.0\n",
       "  0.0  0.0  0.0  0.0  0.0  0.0  0.0     0.0  0.0  0.0  0.0  0.0  0.0   0.0\n",
       "  0.0  0.0  0.0  0.0  0.0  0.0  0.0  …  0.0  0.0  0.0  0.0  0.0  0.0   0.0\n",
       "  0.0  0.0  0.0  0.0  0.0  0.0  0.0     0.0  0.0  0.0  0.0  0.0  0.0   0.0\n",
       "  0.0  0.0  0.0  0.0  0.0  0.0  0.0     0.0  0.0  0.0  0.0  0.0  0.0   0.0\n",
       "  0.0  0.0  0.0  0.0  0.0  0.0  0.0     0.0  0.0  0.0  0.0  0.0  0.0   0.0\n",
       "  0.0  0.0  0.0  0.0  0.0  0.0  0.0     0.0  0.0  0.0  0.0  0.0  0.0   0.0\n",
       "  0.0  0.0  0.0  0.0  0.0  0.0  0.0  …  0.0  0.0  0.0  0.0  0.0  0.0   0.0\n",
       "  0.0  0.0  0.0  0.0  0.0  0.0  0.0     0.0  0.0  0.0  0.0  0.0  0.0   0.0\n",
       "  0.0  0.0  0.0  8.0  0.0  0.0  0.0     0.0  0.0  0.0  0.0  0.0  0.0   0.0\n",
       "  ⋮                        ⋮         ⋱       ⋮                         ⋮\n",
       "  0.0  0.0  0.0  0.0  0.0  0.0  0.0     0.0  0.0  0.0  0.0  0.0  0.0   0.0\n",
       "  0.0  0.0  0.0  0.0  0.0  0.0  0.0  …  0.0  0.0  0.0  0.0  0.0  0.0   0.0\n",
       "  0.0  0.0  0.0  0.0  0.0  0.0  0.0     0.0  0.0  0.0  0.0  0.0  0.0   0.0\n",
       "  0.0  0.0  0.0  0.0  0.0  0.0  0.0     0.0  0.0  0.0  0.0  0.0  0.0   0.0\n",
       "  0.0  0.0  0.0  0.0  0.0  0.0  0.0     0.0  0.0  0.0  0.0  0.0  0.0   0.0\n",
       "  0.0  0.0  0.0  0.0  0.0  0.0  0.0     0.0  0.0  0.0  0.0  0.0  0.0   0.0\n",
       "  0.0  0.0  0.0  0.0  0.0  0.0  0.0  …  0.0  0.0  0.0  0.0  0.0  0.0   0.0\n",
       "  0.0  0.0  0.0  0.0  0.0  0.0  0.0     0.0  0.0  0.0  0.0  0.0  0.0   0.0\n",
       "  0.0  0.0  0.0  0.0  0.0  0.0  0.0     0.0  0.0  0.0  8.0  0.0  0.0   0.0\n",
       "  0.0  0.0  0.0  0.0  0.0  0.0  0.0     0.0  0.0  0.0  0.0  0.0  0.0   0.0\n",
       "  0.0  0.0  0.0  0.0  0.0  0.0  0.0     0.0  0.0  0.0  0.0  0.0  0.0   0.0\n",
       "  0.0  0.0  0.0  0.0  0.0  0.0  0.0  …  0.0  0.0  0.0  0.0  0.0  0.0  16.0"
      ]
     },
     "execution_count": 96,
     "metadata": {},
     "output_type": "execute_result"
    }
   ],
   "source": [
    "n = 2\n",
    "W = charged_2nd_frame_op(n)\n",
    "result = full_component_analysis(W)"
   ]
  },
  {
   "cell_type": "code",
   "execution_count": 109,
   "id": "a4d10edd",
   "metadata": {},
   "outputs": [
    {
     "name": "stdout",
     "output_type": "stream",
     "text": [
      "II II : 16.0II_II \n",
      "XI II : \n",
      "XI XI : 2.0XI_XI 2.0YI_YI 2.0IX_IX 2.0ZX_ZX 2.0IY_IY 2.0ZY_ZY 2.0XZ_XZ 2.0YZ_YZ \n",
      "YI II : \n",
      "YI XI : -2.0XI_YI 2.0YI_XI -2.0IX_IY -2.0ZX_ZY 2.0IY_IX 2.0ZY_ZX -2.0XZ_YZ 2.0YZ_XZ \n",
      "YI YI : 2.0XI_XI 2.0YI_YI 2.0IX_IX 2.0ZX_ZX 2.0IY_IY 2.0ZY_ZY 2.0XZ_XZ 2.0YZ_YZ \n",
      "ZI II : 8.0ZI_II 8.0IZ_II \n",
      "ZI XI : \n",
      "ZI YI : \n",
      "ZI ZI : 5.33ZI_ZI 2.67ZI_IZ 1.33XX_XX 1.33XX_YY 1.33YX_YX -1.33YX_XY -1.33XY_YX 1.33XY_XY 1.33YY_XX 1.33YY_YY 2.67IZ_ZI 5.33IZ_IZ \n",
      "IX II : \n",
      "IX XI : \n",
      "IX YI : \n",
      "IX ZI : \n",
      "IX IX : 2.0XI_XI 2.0YI_YI 2.0IX_IX 2.0ZX_ZX 2.0IY_IY 2.0ZY_ZY 2.0XZ_XZ 2.0YZ_YZ \n",
      "XX II : \n",
      "XX XI : \n",
      "XX YI : \n",
      "XX ZI : \n",
      "XX IX : \n",
      "XX XX : 1.33ZI_ZI -1.33ZI_IZ 3.33XX_XX -0.67XX_YY 3.33YX_YX 0.67YX_XY 0.67XY_YX 3.33XY_XY -0.67YY_XX 3.33YY_YY -1.33IZ_ZI 1.33IZ_IZ \n",
      "YX II : \n",
      "YX XI : \n",
      "YX YI : \n",
      "YX ZI : \n",
      "YX IX : \n",
      "YX XX : -2.0XX_YX -2.0XX_XY 2.0YX_XX -2.0YX_YY 2.0XY_XX -2.0XY_YY 2.0YY_YX 2.0YY_XY \n",
      "YX YX : 1.33ZI_ZI -1.33ZI_IZ 3.33XX_XX -0.67XX_YY 3.33YX_YX 0.67YX_XY 0.67XY_YX 3.33XY_XY -0.67YY_XX 3.33YY_YY -1.33IZ_ZI 1.33IZ_IZ \n",
      "ZX II : \n",
      "ZX XI : \n",
      "ZX YI : \n",
      "ZX ZI : \n",
      "ZX IX : 2.0XI_XZ 2.0YI_YZ 2.0IX_ZX 2.0ZX_IX 2.0IY_ZY 2.0ZY_IY 2.0XZ_XI 2.0YZ_YI \n",
      "ZX XX : \n",
      "ZX YX : \n",
      "ZX ZX : 2.0XI_XI 2.0YI_YI 2.0IX_IX 2.0ZX_ZX 2.0IY_IY 2.0ZY_ZY 2.0XZ_XZ 2.0YZ_YZ \n",
      "IY II : \n",
      "IY XI : \n",
      "IY YI : \n",
      "IY ZI : \n",
      "IY IX : -2.0XI_YI 2.0YI_XI -2.0IX_IY -2.0ZX_ZY 2.0IY_IX 2.0ZY_ZX -2.0XZ_YZ 2.0YZ_XZ \n",
      "IY XX : \n",
      "IY YX : \n",
      "IY ZX : -2.0XI_YZ 2.0YI_XZ -2.0IX_ZY -2.0ZX_IY 2.0IY_ZX 2.0ZY_IX -2.0XZ_YI 2.0YZ_XI \n",
      "IY IY : 2.0XI_XI 2.0YI_YI 2.0IX_IX 2.0ZX_ZX 2.0IY_IY 2.0ZY_ZY 2.0XZ_XZ 2.0YZ_YZ \n",
      "XY II : \n",
      "XY XI : \n",
      "XY YI : \n",
      "XY ZI : \n",
      "XY IX : \n",
      "XY XX : -2.0XX_YX -2.0XX_XY 2.0YX_XX -2.0YX_YY 2.0XY_XX -2.0XY_YY 2.0YY_YX 2.0YY_XY \n",
      "XY YX : -1.33ZI_ZI 1.33ZI_IZ 0.67XX_XX -3.33XX_YY 0.67YX_YX 3.33YX_XY 3.33XY_YX 0.67XY_XY -3.33YY_XX 0.67YY_YY 1.33IZ_ZI -1.33IZ_IZ \n",
      "XY ZX : \n",
      "XY IY : \n",
      "XY XY : 1.33ZI_ZI -1.33ZI_IZ 3.33XX_XX -0.67XX_YY 3.33YX_YX 0.67YX_XY 0.67XY_YX 3.33XY_XY -0.67YY_XX 3.33YY_YY -1.33IZ_ZI 1.33IZ_IZ \n",
      "YY II : \n",
      "YY XI : \n",
      "YY YI : \n",
      "YY ZI : \n",
      "YY IX : \n",
      "YY XX : 1.33ZI_ZI -1.33ZI_IZ -0.67XX_XX 3.33XX_YY -0.67YX_YX -3.33YX_XY -3.33XY_YX -0.67XY_XY 3.33YY_XX -0.67YY_YY -1.33IZ_ZI 1.33IZ_IZ \n",
      "YY YX : -2.0XX_YX -2.0XX_XY 2.0YX_XX -2.0YX_YY 2.0XY_XX -2.0XY_YY 2.0YY_YX 2.0YY_XY \n",
      "YY ZX : \n",
      "YY IY : \n",
      "YY XY : -2.0XX_YX -2.0XX_XY 2.0YX_XX -2.0YX_YY 2.0XY_XX -2.0XY_YY 2.0YY_YX 2.0YY_XY \n",
      "YY YY : 1.33ZI_ZI -1.33ZI_IZ 3.33XX_XX -0.67XX_YY 3.33YX_YX 0.67YX_XY 0.67XY_YX 3.33XY_XY -0.67YY_XX 3.33YY_YY -1.33IZ_ZI 1.33IZ_IZ \n",
      "ZY II : \n",
      "ZY XI : \n",
      "ZY YI : \n",
      "ZY ZI : \n",
      "ZY IX : -2.0XI_YZ 2.0YI_XZ -2.0IX_ZY -2.0ZX_IY 2.0IY_ZX 2.0ZY_IX -2.0XZ_YI 2.0YZ_XI \n",
      "ZY XX : \n",
      "ZY YX : \n",
      "ZY ZX : -2.0XI_YI 2.0YI_XI -2.0IX_IY -2.0ZX_ZY 2.0IY_IX 2.0ZY_ZX -2.0XZ_YZ 2.0YZ_XZ \n",
      "ZY IY : 2.0XI_XZ 2.0YI_YZ 2.0IX_ZX 2.0ZX_IX 2.0IY_ZY 2.0ZY_IY 2.0XZ_XI 2.0YZ_YI \n",
      "ZY XY : \n",
      "ZY YY : \n",
      "ZY ZY : 2.0XI_XI 2.0YI_YI 2.0IX_IX 2.0ZX_ZX 2.0IY_IY 2.0ZY_ZY 2.0XZ_XZ 2.0YZ_YZ \n",
      "IZ II : 8.0ZI_II 8.0IZ_II \n",
      "IZ XI : \n",
      "IZ YI : \n",
      "IZ ZI : 2.67ZI_ZI 5.33ZI_IZ -1.33XX_XX -1.33XX_YY -1.33YX_YX 1.33YX_XY 1.33XY_YX -1.33XY_XY -1.33YY_XX -1.33YY_YY 5.33IZ_ZI 2.67IZ_IZ \n",
      "IZ IX : \n",
      "IZ XX : \n",
      "IZ YX : \n",
      "IZ ZX : \n",
      "IZ IY : \n",
      "IZ XY : \n",
      "IZ YY : \n",
      "IZ ZY : \n",
      "IZ IZ : 5.33ZI_ZI 2.67ZI_IZ 1.33XX_XX 1.33XX_YY 1.33YX_YX -1.33YX_XY -1.33XY_YX 1.33XY_XY 1.33YY_XX 1.33YY_YY 2.67IZ_ZI 5.33IZ_IZ \n",
      "XZ II : \n",
      "XZ XI : 2.0XI_XZ 2.0YI_YZ 2.0IX_ZX 2.0ZX_IX 2.0IY_ZY 2.0ZY_IY 2.0XZ_XI 2.0YZ_YI \n",
      "XZ YI : 2.0XI_YZ -2.0YI_XZ 2.0IX_ZY 2.0ZX_IY -2.0IY_ZX -2.0ZY_IX 2.0XZ_YI -2.0YZ_XI \n",
      "XZ ZI : \n",
      "XZ IX : \n",
      "XZ XX : \n",
      "XZ YX : \n",
      "XZ ZX : \n",
      "XZ IY : \n",
      "XZ XY : \n",
      "XZ YY : \n",
      "XZ ZY : \n",
      "XZ IZ : \n",
      "XZ XZ : 2.0XI_XI 2.0YI_YI 2.0IX_IX 2.0ZX_ZX 2.0IY_IY 2.0ZY_ZY 2.0XZ_XZ 2.0YZ_YZ \n",
      "YZ II : \n",
      "YZ XI : -2.0XI_YZ 2.0YI_XZ -2.0IX_ZY -2.0ZX_IY 2.0IY_ZX 2.0ZY_IX -2.0XZ_YI 2.0YZ_XI \n",
      "YZ YI : 2.0XI_XZ 2.0YI_YZ 2.0IX_ZX 2.0ZX_IX 2.0IY_ZY 2.0ZY_IY 2.0XZ_XI 2.0YZ_YI \n",
      "YZ ZI : \n",
      "YZ IX : \n",
      "YZ XX : \n",
      "YZ YX : \n",
      "YZ ZX : \n",
      "YZ IY : \n",
      "YZ XY : \n",
      "YZ YY : \n",
      "YZ ZY : \n",
      "YZ IZ : \n",
      "YZ XZ : -2.0XI_YI 2.0YI_XI -2.0IX_IY -2.0ZX_ZY 2.0IY_IX 2.0ZY_ZX -2.0XZ_YZ 2.0YZ_XZ \n",
      "YZ YZ : 2.0XI_XI 2.0YI_YI 2.0IX_IX 2.0ZX_ZX 2.0IY_IY 2.0ZY_ZY 2.0XZ_XZ 2.0YZ_YZ \n",
      "ZZ II : 16.0ZZ_II \n",
      "ZZ XI : \n",
      "ZZ YI : \n",
      "ZZ ZI : 8.0ZZ_ZI 8.0ZZ_IZ \n",
      "ZZ IX : \n",
      "ZZ XX : \n",
      "ZZ YX : \n",
      "ZZ ZX : \n",
      "ZZ IY : \n",
      "ZZ XY : \n",
      "ZZ YY : \n",
      "ZZ ZY : \n",
      "ZZ IZ : 8.0ZZ_ZI 8.0ZZ_IZ \n",
      "ZZ XZ : \n",
      "ZZ YZ : \n",
      "ZZ ZZ : 16.0ZZ_ZZ \n"
     ]
    }
   ],
   "source": [
    "analysis_report(2, result)"
   ]
  },
  {
   "cell_type": "code",
   "execution_count": 97,
   "id": "06872720",
   "metadata": {},
   "outputs": [],
   "source": [
    "tmp1 = 0\n",
    "n = 2\n",
    "for q1 in 0:2, q2 in 0:2\n",
    "    tmp1 = tmp1 .+ charged_paired_state(n, false, q1, q2)\n",
    "end"
   ]
  },
  {
   "cell_type": "code",
   "execution_count": 99,
   "id": "1b85b59e",
   "metadata": {},
   "outputs": [
    {
     "name": "stdout",
     "output_type": "stream",
     "text": [
      "tmp1 = [1, 0, 0, 0, 0, 1, 0, 0, 0, 0, 1, 0, 0, 0, 0, 1, 0, 0, 0, 0, 0, 0, 0, 0, 0, 0, 0, 0, 0, 0, 0, 0, 0, 0, 0, 0, 0, 0, 0, 0, 0, 0, 0, 0, 0, 0, 0, 0, 0, 0, 0, 0, 0, 0, 0, 0, 0, 0, 0, 0, 0, 0, 0, 0, 0, 0, 0, 0, 0, 0, 0, 0, 0, 0, 0, 0, 0, 0, 0, 0, 1, 0, 0, 0, 0, 1, 0, 0, 0, 0, 1, 0, 0, 0, 0, 1, 0, 0, 0, 0, 0, 0, 0, 0, 0, 0, 0, 0, 0, 0, 0, 0, 0, 0, 0, 0, 0, 0, 0, 0, 0, 0, 0, 0, 0, 0, 0, 0, 0, 0, 0, 0, 0, 0, 0, 0, 0, 0, 0, 0, 0, 0, 0, 0, 0, 0, 0, 0, 0, 0, 0, 0, 0, 0, 0, 0, 0, 0, 0, 0, 1, 0, 0, 0, 0, 1, 0, 0, 0, 0, 1, 0, 0, 0, 0, 1, 0, 0, 0, 0, 0, 0, 0, 0, 0, 0, 0, 0, 0, 0, 0, 0, 0, 0, 0, 0, 0, 0, 0, 0, 0, 0, 0, 0, 0, 0, 0, 0, 0, 0, 0, 0, 0, 0, 0, 0, 0, 0, 0, 0, 0, 0, 0, 0, 0, 0, 0, 0, 0, 0, 0, 0, 0, 0, 0, 0, 0, 0, 0, 0, 1, 0, 0, 0, 0, 1, 0, 0, 0, 0, 1, 0, 0, 0, 0, 1]\n",
      "tmp2 - tmp1 = [0, 0, 0, 0, 0, 0, 0, 0, 0, 0, 0, 0, 0, 0, 0, 0, 0, 0, 0, 0, 0, 0, 0, 0, 0, 0, 0, 0, 0, 0, 0, 0, 0, 0, 0, 0, 0, 0, 0, 0, 0, 0, 0, 0, 0, 0, 0, 0, 0, 0, 0, 0, 0, 0, 0, 0, 0, 0, 0, 0, 0, 0, 0, 0, 0, 0, 0, 0, 0, 0, 0, 0, 0, 0, 0, 0, 0, 0, 0, 0, 0, 0, 0, 0, 0, 0, 0, 0, 0, 0, 0, 0, 0, 0, 0, 0, 0, 0, 0, 0, 0, 0, 0, 0, 0, 0, 0, 0, 0, 0, 0, 0, 0, 0, 0, 0, 0, 0, 0, 0, 0, 0, 0, 0, 0, 0, 0, 0, 0, 0, 0, 0, 0, 0, 0, 0, 0, 0, 0, 0, 0, 0, 0, 0, 0, 0, 0, 0, 0, 0, 0, 0, 0, 0, 0, 0, 0, 0, 0, 0, 0, 0, 0, 0, 0, 0, 0, 0, 0, 0, 0, 0, 0, 0, 0, 0, 0, 0, 0, 0, 0, 0, 0, 0, 0, 0, 0, 0, 0, 0, 0, 0, 0, 0, 0, 0, 0, 0, 0, 0, 0, 0, 0, 0, 0, 0, 0, 0, 0, 0, 0, 0, 0, 0, 0, 0, 0, 0, 0, 0, 0, 0, 0, 0, 0, 0, 0, 0, 0, 0, 0, 0, 0, 0, 0, 0, 0, 0, 0, 0, 0, 0, 0, 0, 0, 0, 0, 0, 0, 0, 0, 0, 0, 0, 0, 0]\n"
     ]
    }
   ],
   "source": [
    "@show tmp1\n",
    "tmp2 = kron(reorder_dims(kron(II, II)),reorder_dims(kron(II, II)));\n",
    "@show tmp2-tmp1;"
   ]
  },
  {
   "cell_type": "code",
   "execution_count": 103,
   "id": "ee9c33c7",
   "metadata": {},
   "outputs": [
    {
     "name": "stdout",
     "output_type": "stream",
     "text": [
      "result1 = [1, 0, 0, 0, 0, 0, 0, 0, 0, 1, 0, 0, 0, 0, 0, 0, 0, 0, 1, 0, 0, 0, 0, 0, 0, 0, 0, 1, 0, 0, 0, 0, 0, 0, 0, 0, 1, 0, 0, 0, 0, 0, 0, 0, 0, 1, 0, 0, 0, 0, 0, 0, 0, 0, 1, 0, 0, 0, 0, 0, 0, 0, 0, 1]\n",
      "result2 = [1, 0, 0, 0, 0, 0, 0, 0, 0, 1, 0, 0, 0, 0, 0, 0, 0, 0, 1, 0, 0, 0, 0, 0, 0, 0, 0, 1, 0, 0, 0, 0, 0, 0, 0, 0, 1, 0, 0, 0, 0, 0, 0, 0, 0, 1, 0, 0, 0, 0, 0, 0, 0, 0, 1, 0, 0, 0, 0, 0, 0, 0, 0, 1]\n"
     ]
    }
   ],
   "source": [
    "d = 8\n",
    "result1 = zeros(Int, 64)\n",
    "for i in 1:d\n",
    "    result1[(i-1)*d + i-1+1] =1\n",
    "end\n",
    "@show result1\n",
    "result2 = reorder_dims(kron(II, II, II))\n",
    "@show result2;"
   ]
  },
  {
   "cell_type": "code",
   "execution_count": 39,
   "id": "e9cbaf76",
   "metadata": {},
   "outputs": [
    {
     "data": {
      "text/plain": [
       "256-element Array{Float64,1}:\n",
       " -1.0\n",
       "  0.0\n",
       "  0.0\n",
       "  0.0\n",
       "  0.0\n",
       "  0.0\n",
       "  0.0\n",
       "  0.0\n",
       "  0.0\n",
       "  0.0\n",
       "  0.0\n",
       "  0.0\n",
       "  0.0\n",
       "  ⋮\n",
       "  0.0\n",
       "  0.0\n",
       "  0.0\n",
       "  0.0\n",
       "  0.0\n",
       "  0.0\n",
       "  0.0\n",
       "  0.0\n",
       "  0.0\n",
       "  0.0\n",
       "  0.0\n",
       " -1.0"
      ]
     },
     "execution_count": 39,
     "metadata": {},
     "output_type": "execute_result"
    }
   ],
   "source": [
    "q = reorder_dims(kron(II, II))\n",
    "qq = kron(q, q)\n",
    "\n",
    "W*qq - qq"
   ]
  },
  {
   "cell_type": "code",
   "execution_count": 53,
   "id": "f28c5a6f",
   "metadata": {},
   "outputs": [
    {
     "data": {
      "text/plain": [
       "8-element Array{Array{Int64,1},1}:\n",
       " [0, 1]\n",
       " [1, 1]\n",
       " [2, 1]\n",
       " [3, 1]\n",
       " [0, 0]\n",
       " [1, 0]\n",
       " [2, 0]\n",
       " [3, 0]"
      ]
     },
     "execution_count": 53,
     "metadata": {},
     "output_type": "execute_result"
    }
   ],
   "source": [
    "all_qs(2)"
   ]
  },
  {
   "cell_type": "code",
   "execution_count": 89,
   "id": "1aa1ad69",
   "metadata": {},
   "outputs": [
    {
     "data": {
      "text/plain": [
       "2-element Array{Float64,1}:\n",
       " 0.0\n",
       " 0.0"
      ]
     },
     "execution_count": 89,
     "metadata": {},
     "output_type": "execute_result"
    }
   ],
   "source": [
    "a = [0., 0.]"
   ]
  },
  {
   "cell_type": "code",
   "execution_count": 138,
   "id": "5a079d50",
   "metadata": {},
   "outputs": [
    {
     "data": {
      "text/plain": [
       "cc (generic function with 1 method)"
      ]
     },
     "execution_count": 138,
     "metadata": {},
     "output_type": "execute_result"
    }
   ],
   "source": [
    "function haar_unitary(n, seed=nothing)\n",
    "    eps = 1e-7\n",
    "    while true\n",
    "        if seed === nothing\n",
    "            tmp = randn(n, n) + im .* randn(n, n)\n",
    "        else\n",
    "            rng = MersenneTwister(seed)\n",
    "            tmp = randn(rng, n, n) + im .* randn(rng, n, n)\n",
    "        end\n",
    "        q, r = qr!(tmp)\n",
    "        q = Array(q)\n",
    "        ill_cond = false\n",
    "        for i in 1:n\n",
    "            tmp = abs(r[i ,i])\n",
    "            if tmp < eps\n",
    "                ill_cond = true\n",
    "                break\n",
    "            end\n",
    "            q[:, i] *= r[i ,i] / tmp\n",
    "        end\n",
    "        ill_cond && continue\n",
    "        return q\n",
    "    end\n",
    "end\n",
    "\n",
    "function diag_swap()\n",
    "    mat = zeros(ComplexF64, 4, 4)\n",
    "    mat[1, 1] = exp(2pi*rand()*1im)\n",
    "    mat[4, 4] = exp(2pi*rand()*1im)\n",
    "    if rand() < 0.5\n",
    "        mat[2, 2] = exp(2pi*rand()*1im)\n",
    "        mat[3, 3] = exp(2pi*rand()*1im)\n",
    "    else\n",
    "        mat[2, 3] = exp(2pi*rand()*1im)\n",
    "        mat[3, 2] = exp(2pi*rand()*1im)\n",
    "    end\n",
    "    return mat\n",
    "end\n",
    "\n",
    "function cc()\n",
    "    mat = zeros(ComplexF64, 4, 4)\n",
    "    mat[1, 1] = exp(2pi*rand()*1im)\n",
    "    mat[4, 4] = exp(2pi*rand()*1im)\n",
    "    mat[2:3, 2:3] = haar_unitary(2)\n",
    "    return mat\n",
    "end"
   ]
  },
  {
   "cell_type": "code",
   "execution_count": 148,
   "id": "5e81bc48",
   "metadata": {},
   "outputs": [
    {
     "data": {
      "text/plain": [
       "-1.9902940388468506 - 5.468471812528075e-19im"
      ]
     },
     "execution_count": 148,
     "metadata": {},
     "output_type": "execute_result"
    }
   ],
   "source": [
    "avg = 10000\n",
    "begin\n",
    "    a1 = kron(reshape(Y,2,2), [1 0; 0 1])\n",
    "    a2 = kron(reshape(X,2,2), [1 0; 0 1])\n",
    "    b1 = kron(reshape(X,2,2), [1 0; 0 1])\n",
    "    b2 = kron(reshape(Y,2,2), [1 0; 0 1])\n",
    "    tmp1 = kron(a1, a2)\n",
    "    s = 0\n",
    "    for _ in 1:avg\n",
    "        U = diag_swap()\n",
    "#         U = cc()\n",
    "        tmp2 = kron(U * b1 * U', U * b2 * U')\n",
    "        s += tr(tmp1 * tmp2)\n",
    "    end\n",
    "    s /= avg\n",
    "    s\n",
    "end"
   ]
  },
  {
   "cell_type": "code",
   "execution_count": 150,
   "id": "93838045",
   "metadata": {},
   "outputs": [
    {
     "data": {
      "text/plain": [
       "4×4 Array{Complex{Float64},2}:\n",
       " 1.0+0.0im           0.0+0.0im                   0.0+0.0im          0.0+0.0im\n",
       " 0.0-0.0im           1.0+0.0im          -1.72066e-16-1.72393e-16im  0.0+0.0im\n",
       " 0.0-0.0im  -1.72066e-16+1.72393e-16im           1.0+0.0im          0.0+0.0im\n",
       " 0.0-0.0im           0.0-0.0im                   0.0-0.0im          1.0+0.0im"
      ]
     },
     "execution_count": 150,
     "metadata": {},
     "output_type": "execute_result"
    }
   ],
   "source": [
    "U = cc()\n",
    "U * U'\n"
   ]
  },
  {
   "cell_type": "code",
   "execution_count": 7,
   "id": "07d55d3c",
   "metadata": {},
   "outputs": [
    {
     "data": {
      "text/plain": [
       "29.999999999999996"
      ]
     },
     "execution_count": 7,
     "metadata": {},
     "output_type": "execute_result"
    }
   ],
   "source": [
    "sum(eigvals(W))"
   ]
  },
  {
   "cell_type": "code",
   "execution_count": 9,
   "id": "5383ac3f",
   "metadata": {},
   "outputs": [
    {
     "data": {
      "text/plain": [
       "Eigen{Float64,Float64,Array{Float64,2},Array{Float64,1}}\n",
       "values:\n",
       "4096-element Array{Float64,1}:\n",
       " -1.9615382426958483e-16\n",
       " -1.7718559110598632e-16\n",
       " -1.1082629677864934e-16\n",
       " -9.334604980189909e-17\n",
       " -8.546108206431453e-17\n",
       " -6.938893903907228e-17\n",
       " -6.582819108112845e-17\n",
       " -6.489665460404294e-17\n",
       " -6.381276237966998e-17\n",
       " -6.28897948319363e-17\n",
       " -6.105317554084703e-17\n",
       " -5.4263460305519584e-17\n",
       " -5.327841689042989e-17\n",
       "  ⋮\n",
       "  0.9999999999999999\n",
       "  0.9999999999999999\n",
       "  0.9999999999999999\n",
       "  1.0\n",
       "  1.0\n",
       "  1.0\n",
       "  1.0\n",
       "  1.0\n",
       "  1.0\n",
       "  1.0\n",
       "  1.0\n",
       "  1.0000000000000002\n",
       "vectors:\n",
       "4096×4096 Array{Float64,2}:\n",
       " 0.0  0.0  0.0  0.0  0.0  0.0  0.0  0.0  …  0.0  0.0  0.0  0.0  0.0  0.0  0.0\n",
       " 0.0  0.0  0.0  0.0  0.0  0.0  0.0  0.0     0.0  0.0  0.0  0.0  0.0  0.0  0.0\n",
       " 0.0  0.0  0.0  0.0  0.0  0.0  0.0  0.0     0.0  0.0  0.0  0.0  0.0  0.0  0.0\n",
       " 0.0  0.0  0.0  0.0  0.0  0.0  0.0  0.0     0.0  0.0  0.0  0.0  0.0  0.0  0.0\n",
       " 0.0  0.0  0.0  0.0  0.0  0.0  0.0  0.0     0.0  0.0  0.0  0.0  0.0  0.0  0.0\n",
       " 0.0  0.0  0.0  0.0  0.0  0.0  0.0  0.0  …  0.0  0.0  0.0  0.0  0.0  0.0  0.0\n",
       " 0.0  0.0  0.0  0.0  0.0  0.0  0.0  0.0     0.0  0.0  0.0  0.0  0.0  0.0  0.0\n",
       " 0.0  0.0  0.0  0.0  0.0  0.0  0.0  0.0     0.0  0.0  0.0  0.0  0.0  0.0  0.0\n",
       " 0.0  0.0  0.0  0.0  0.0  0.0  0.0  0.0     0.0  0.0  0.0  0.0  0.0  0.0  0.0\n",
       " 0.0  0.0  0.0  0.0  0.0  0.0  0.0  0.0     0.0  0.0  0.0  0.0  0.0  0.0  0.0\n",
       " 0.0  0.0  0.0  0.0  0.0  0.0  0.0  0.0  …  0.0  0.0  0.0  0.0  0.0  0.0  0.0\n",
       " 0.0  0.0  0.0  0.0  0.0  0.0  0.0  0.0     0.0  0.0  0.0  0.0  0.0  0.0  0.0\n",
       " 0.0  0.0  0.0  0.0  0.0  0.0  0.0  0.0     0.0  0.0  0.0  0.0  0.0  0.0  0.0\n",
       " ⋮                        ⋮              ⋱       ⋮                        ⋮\n",
       " 0.0  0.0  0.0  0.0  0.0  0.0  0.0  0.0     0.0  0.0  0.0  0.0  0.0  0.0  0.0\n",
       " 0.0  0.0  0.0  0.0  0.0  0.0  0.0  0.0  …  0.0  0.0  0.0  0.0  0.0  0.0  0.0\n",
       " 0.0  0.0  0.0  0.0  0.0  0.0  0.0  0.0     0.0  0.0  0.0  0.0  0.0  0.0  0.0\n",
       " 0.0  0.0  0.0  0.0  0.0  0.0  0.0  0.0     0.0  0.0  0.0  0.0  0.0  0.0  0.0\n",
       " 0.0  0.0  0.0  0.0  0.0  0.0  0.0  0.0     0.0  0.0  0.0  0.0  0.0  0.0  0.0\n",
       " 0.0  0.0  0.0  0.0  0.0  0.0  0.0  0.0     0.0  0.0  0.0  0.0  0.0  0.0  0.0\n",
       " 0.0  0.0  0.0  0.0  0.0  0.0  0.0  0.0  …  0.0  0.0  0.0  0.0  0.0  0.0  0.0\n",
       " 0.0  0.0  0.0  0.0  0.0  0.0  0.0  0.0     0.0  0.0  0.0  0.0  0.0  0.0  0.0\n",
       " 0.0  0.0  0.0  0.0  0.0  0.0  0.0  0.0     0.0  0.0  0.0  0.0  0.0  0.0  0.0\n",
       " 0.0  0.0  0.0  0.0  0.0  0.0  0.0  0.0     0.0  0.0  0.0  0.0  0.0  0.0  0.0\n",
       " 0.0  0.0  0.0  0.0  0.0  0.0  0.0  0.0     0.0  0.0  0.0  0.0  0.0  0.0  0.0\n",
       " 0.0  0.0  0.0  0.0  0.0  0.0  0.0  0.0  …  0.0  0.0  0.0  0.0  0.0  1.0  0.0"
      ]
     },
     "execution_count": 9,
     "metadata": {},
     "output_type": "execute_result"
    }
   ],
   "source": [
    "eigen(W)"
   ]
  },
  {
   "cell_type": "code",
   "execution_count": null,
   "id": "bc064432",
   "metadata": {},
   "outputs": [],
   "source": []
  }
 ],
 "metadata": {
  "kernelspec": {
   "display_name": "Julia 1.5.3",
   "language": "julia",
   "name": "julia-1.5"
  },
  "language_info": {
   "file_extension": ".jl",
   "mimetype": "application/julia",
   "name": "julia",
   "version": "1.5.3"
  }
 },
 "nbformat": 4,
 "nbformat_minor": 5
}
